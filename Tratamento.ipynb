{
 "cells": [
  {
   "cell_type": "markdown",
   "metadata": {},
   "source": [
    "# Imports"
   ]
  },
  {
   "cell_type": "code",
   "execution_count": 137,
   "metadata": {},
   "outputs": [],
   "source": [
    "import pandas as pd\n",
    "import matplotlib.pyplot as plt\n",
    "import numpy as np\n",
    "from scipy import stats\n",
    "import re\n",
    "\n",
    "import nltk\n",
    "from nltk.corpus import stopwords\n",
    "from nltk.tokenize import word_tokenize\n",
    "\n",
    "from sklearn.feature_extraction.text import CountVectorizer\n",
    "from sklearn.feature_extraction.text import TfidfVectorizer"
   ]
  },
  {
   "cell_type": "markdown",
   "metadata": {},
   "source": [
    "# Leitura dos dados"
   ]
  },
  {
   "cell_type": "code",
   "execution_count": 138,
   "metadata": {},
   "outputs": [
    {
     "data": {
      "text/html": [
       "<div>\n",
       "<style scoped>\n",
       "    .dataframe tbody tr th:only-of-type {\n",
       "        vertical-align: middle;\n",
       "    }\n",
       "\n",
       "    .dataframe tbody tr th {\n",
       "        vertical-align: top;\n",
       "    }\n",
       "\n",
       "    .dataframe thead th {\n",
       "        text-align: right;\n",
       "    }\n",
       "</style>\n",
       "<table border=\"1\" class=\"dataframe\">\n",
       "  <thead>\n",
       "    <tr style=\"text-align: right;\">\n",
       "      <th></th>\n",
       "      <th>link</th>\n",
       "      <th>headline</th>\n",
       "      <th>category</th>\n",
       "      <th>short_description</th>\n",
       "      <th>authors</th>\n",
       "      <th>date</th>\n",
       "    </tr>\n",
       "  </thead>\n",
       "  <tbody>\n",
       "    <tr>\n",
       "      <th>0</th>\n",
       "      <td>https://www.huffpost.com/entry/covid-boosters-...</td>\n",
       "      <td>Over 4 Million Americans Roll Up Sleeves For O...</td>\n",
       "      <td>U.S. NEWS</td>\n",
       "      <td>Health experts said it is too early to predict...</td>\n",
       "      <td>Carla K. Johnson, AP</td>\n",
       "      <td>2022-09-23</td>\n",
       "    </tr>\n",
       "    <tr>\n",
       "      <th>1</th>\n",
       "      <td>https://www.huffpost.com/entry/american-airlin...</td>\n",
       "      <td>American Airlines Flyer Charged, Banned For Li...</td>\n",
       "      <td>U.S. NEWS</td>\n",
       "      <td>He was subdued by passengers and crew when he ...</td>\n",
       "      <td>Mary Papenfuss</td>\n",
       "      <td>2022-09-23</td>\n",
       "    </tr>\n",
       "    <tr>\n",
       "      <th>2</th>\n",
       "      <td>https://www.huffpost.com/entry/funniest-tweets...</td>\n",
       "      <td>23 Of The Funniest Tweets About Cats And Dogs ...</td>\n",
       "      <td>COMEDY</td>\n",
       "      <td>\"Until you have a dog you don't understand wha...</td>\n",
       "      <td>Elyse Wanshel</td>\n",
       "      <td>2022-09-23</td>\n",
       "    </tr>\n",
       "    <tr>\n",
       "      <th>3</th>\n",
       "      <td>https://www.huffpost.com/entry/funniest-parent...</td>\n",
       "      <td>The Funniest Tweets From Parents This Week (Se...</td>\n",
       "      <td>PARENTING</td>\n",
       "      <td>\"Accidentally put grown-up toothpaste on my to...</td>\n",
       "      <td>Caroline Bologna</td>\n",
       "      <td>2022-09-23</td>\n",
       "    </tr>\n",
       "    <tr>\n",
       "      <th>4</th>\n",
       "      <td>https://www.huffpost.com/entry/amy-cooper-lose...</td>\n",
       "      <td>Woman Who Called Cops On Black Bird-Watcher Lo...</td>\n",
       "      <td>U.S. NEWS</td>\n",
       "      <td>Amy Cooper accused investment firm Franklin Te...</td>\n",
       "      <td>Nina Golgowski</td>\n",
       "      <td>2022-09-22</td>\n",
       "    </tr>\n",
       "  </tbody>\n",
       "</table>\n",
       "</div>"
      ],
      "text/plain": [
       "                                                link  \\\n",
       "0  https://www.huffpost.com/entry/covid-boosters-...   \n",
       "1  https://www.huffpost.com/entry/american-airlin...   \n",
       "2  https://www.huffpost.com/entry/funniest-tweets...   \n",
       "3  https://www.huffpost.com/entry/funniest-parent...   \n",
       "4  https://www.huffpost.com/entry/amy-cooper-lose...   \n",
       "\n",
       "                                            headline   category  \\\n",
       "0  Over 4 Million Americans Roll Up Sleeves For O...  U.S. NEWS   \n",
       "1  American Airlines Flyer Charged, Banned For Li...  U.S. NEWS   \n",
       "2  23 Of The Funniest Tweets About Cats And Dogs ...     COMEDY   \n",
       "3  The Funniest Tweets From Parents This Week (Se...  PARENTING   \n",
       "4  Woman Who Called Cops On Black Bird-Watcher Lo...  U.S. NEWS   \n",
       "\n",
       "                                   short_description               authors  \\\n",
       "0  Health experts said it is too early to predict...  Carla K. Johnson, AP   \n",
       "1  He was subdued by passengers and crew when he ...        Mary Papenfuss   \n",
       "2  \"Until you have a dog you don't understand wha...         Elyse Wanshel   \n",
       "3  \"Accidentally put grown-up toothpaste on my to...      Caroline Bologna   \n",
       "4  Amy Cooper accused investment firm Franklin Te...        Nina Golgowski   \n",
       "\n",
       "        date  \n",
       "0 2022-09-23  \n",
       "1 2022-09-23  \n",
       "2 2022-09-23  \n",
       "3 2022-09-23  \n",
       "4 2022-09-22  "
      ]
     },
     "execution_count": 138,
     "metadata": {},
     "output_type": "execute_result"
    }
   ],
   "source": [
    "df = pd.read_json('news.json', lines=True)\n",
    "\n",
    "df.head()"
   ]
  },
  {
   "cell_type": "code",
   "execution_count": 139,
   "metadata": {},
   "outputs": [
    {
     "data": {
      "text/plain": [
       "link                 209527\n",
       "headline             209527\n",
       "category             209527\n",
       "short_description    209527\n",
       "authors              209527\n",
       "date                 209527\n",
       "dtype: int64"
      ]
     },
     "execution_count": 139,
     "metadata": {},
     "output_type": "execute_result"
    }
   ],
   "source": [
    "df.count()"
   ]
  },
  {
   "cell_type": "code",
   "execution_count": 140,
   "metadata": {},
   "outputs": [
    {
     "data": {
      "text/plain": [
       "link                         object\n",
       "headline                     object\n",
       "category                     object\n",
       "short_description            object\n",
       "authors                      object\n",
       "date                 datetime64[ns]\n",
       "dtype: object"
      ]
     },
     "execution_count": 140,
     "metadata": {},
     "output_type": "execute_result"
    }
   ],
   "source": [
    "df.dtypes"
   ]
  },
  {
   "cell_type": "code",
   "execution_count": 141,
   "metadata": {},
   "outputs": [
    {
     "data": {
      "text/plain": [
       "42"
      ]
     },
     "execution_count": 141,
     "metadata": {},
     "output_type": "execute_result"
    }
   ],
   "source": [
    "categories_list = df['category'].unique()\n",
    "\n",
    "len(categories_list)"
   ]
  },
  {
   "cell_type": "code",
   "execution_count": 142,
   "metadata": {},
   "outputs": [
    {
     "data": {
      "text/plain": [
       "array(['U.S. NEWS', 'COMEDY', 'PARENTING', 'WORLD NEWS', 'CULTURE & ARTS',\n",
       "       'TECH', 'SPORTS', 'ENTERTAINMENT', 'POLITICS', 'WEIRD NEWS',\n",
       "       'ENVIRONMENT', 'EDUCATION', 'CRIME', 'SCIENCE', 'WELLNESS',\n",
       "       'BUSINESS', 'STYLE & BEAUTY', 'FOOD & DRINK', 'MEDIA',\n",
       "       'QUEER VOICES', 'HOME & LIVING', 'WOMEN', 'BLACK VOICES', 'TRAVEL',\n",
       "       'MONEY', 'RELIGION', 'LATINO VOICES', 'IMPACT', 'WEDDINGS',\n",
       "       'COLLEGE', 'PARENTS', 'ARTS & CULTURE', 'STYLE', 'GREEN', 'TASTE',\n",
       "       'HEALTHY LIVING', 'THE WORLDPOST', 'GOOD NEWS', 'WORLDPOST',\n",
       "       'FIFTY', 'ARTS', 'DIVORCE'], dtype=object)"
      ]
     },
     "execution_count": 142,
     "metadata": {},
     "output_type": "execute_result"
    }
   ],
   "source": [
    "categories_list"
   ]
  },
  {
   "cell_type": "markdown",
   "metadata": {},
   "source": [
    "# Tratamento da base de dados"
   ]
  },
  {
   "cell_type": "markdown",
   "metadata": {},
   "source": [
    "## Remoção de duplicatas"
   ]
  },
  {
   "cell_type": "code",
   "execution_count": 143,
   "metadata": {},
   "outputs": [
    {
     "data": {
      "text/html": [
       "<div>\n",
       "<style scoped>\n",
       "    .dataframe tbody tr th:only-of-type {\n",
       "        vertical-align: middle;\n",
       "    }\n",
       "\n",
       "    .dataframe tbody tr th {\n",
       "        vertical-align: top;\n",
       "    }\n",
       "\n",
       "    .dataframe thead th {\n",
       "        text-align: right;\n",
       "    }\n",
       "</style>\n",
       "<table border=\"1\" class=\"dataframe\">\n",
       "  <thead>\n",
       "    <tr style=\"text-align: right;\">\n",
       "      <th></th>\n",
       "      <th>link</th>\n",
       "      <th>headline</th>\n",
       "      <th>category</th>\n",
       "      <th>short_description</th>\n",
       "      <th>authors</th>\n",
       "      <th>date</th>\n",
       "    </tr>\n",
       "  </thead>\n",
       "  <tbody>\n",
       "    <tr>\n",
       "      <th>67677</th>\n",
       "      <td>https://www.huffingtonpost.comhttp://www.mothe...</td>\n",
       "      <td>On Facebook, Trump's Longtime Butler Calls For...</td>\n",
       "      <td>POLITICS</td>\n",
       "      <td>Anthony Senecal, who worked as Donald Trump's ...</td>\n",
       "      <td></td>\n",
       "      <td>2016-05-12</td>\n",
       "    </tr>\n",
       "    <tr>\n",
       "      <th>67923</th>\n",
       "      <td>https://www.huffingtonpost.comhttp://gizmodo.c...</td>\n",
       "      <td>Former Facebook Workers: We Routinely Suppress...</td>\n",
       "      <td>TECH</td>\n",
       "      <td>Facebook workers routinely suppressed news sto...</td>\n",
       "      <td></td>\n",
       "      <td>2016-05-09</td>\n",
       "    </tr>\n",
       "    <tr>\n",
       "      <th>70239</th>\n",
       "      <td>https://www.huffingtonpost.comhttp://www.cnbc....</td>\n",
       "      <td>On Equal Pay Day, The Gap Is Still Too Wide</td>\n",
       "      <td>WOMEN</td>\n",
       "      <td>Equal Pay Day falls on April 12 in 2016. It's ...</td>\n",
       "      <td></td>\n",
       "      <td>2016-04-12</td>\n",
       "    </tr>\n",
       "    <tr>\n",
       "      <th>139830</th>\n",
       "      <td>https://www.huffingtonpost.comhttp://www.cnn.c...</td>\n",
       "      <td>The World's Most Dangerous Workout?</td>\n",
       "      <td>WELLNESS</td>\n",
       "      <td>Is the \"sport of fitness\" the world's most dan...</td>\n",
       "      <td></td>\n",
       "      <td>2014-02-10</td>\n",
       "    </tr>\n",
       "    <tr>\n",
       "      <th>144409</th>\n",
       "      <td>https://www.huffingtonpost.comhttp://www.upwor...</td>\n",
       "      <td>Some People Call It 'The Best Anti-Smoking Ad ...</td>\n",
       "      <td>WELLNESS</td>\n",
       "      <td>Almost all smokers know cigarettes are bad for...</td>\n",
       "      <td></td>\n",
       "      <td>2013-12-22</td>\n",
       "    </tr>\n",
       "    <tr>\n",
       "      <th>145142</th>\n",
       "      <td>https://www.huffingtonpost.comhttp://www.weath...</td>\n",
       "      <td>10 Cities That Could Run Out Of Water - Weathe...</td>\n",
       "      <td>ENVIRONMENT</td>\n",
       "      <td>Securing access to plentiful, renewable source...</td>\n",
       "      <td></td>\n",
       "      <td>2013-12-15</td>\n",
       "    </tr>\n",
       "    <tr>\n",
       "      <th>178155</th>\n",
       "      <td>https://www.huffingtonpost.comhttp://www.busin...</td>\n",
       "      <td>Google Is Attacking Apple From The Inside Out ...</td>\n",
       "      <td>TECH</td>\n",
       "      <td>After years of hammering away at Apple's share...</td>\n",
       "      <td></td>\n",
       "      <td>2013-01-01</td>\n",
       "    </tr>\n",
       "    <tr>\n",
       "      <th>187329</th>\n",
       "      <td>https://www.huffingtonpost.comhttp://www.nytim...</td>\n",
       "      <td>Eating For Health, Not Weight</td>\n",
       "      <td>WELLNESS</td>\n",
       "      <td>Almost half of Americans are on a diet -- not ...</td>\n",
       "      <td></td>\n",
       "      <td>2012-09-23</td>\n",
       "    </tr>\n",
       "    <tr>\n",
       "      <th>194596</th>\n",
       "      <td>https://www.huffingtonpost.comhttp://blogs.wsj...</td>\n",
       "      <td>Apple Removes Green EPEAT Electronics Certific...</td>\n",
       "      <td>TECH</td>\n",
       "      <td>Apple has pulled its products off the U.S. gov...</td>\n",
       "      <td></td>\n",
       "      <td>2012-07-07</td>\n",
       "    </tr>\n",
       "    <tr>\n",
       "      <th>194598</th>\n",
       "      <td>https://www.huffingtonpost.comhttp://www.theda...</td>\n",
       "      <td>Microsoft's $6.2 Billion Writedown Shows It's ...</td>\n",
       "      <td>TECH</td>\n",
       "      <td>Fighting for online advertising dominance with...</td>\n",
       "      <td></td>\n",
       "      <td>2012-07-07</td>\n",
       "    </tr>\n",
       "    <tr>\n",
       "      <th>207122</th>\n",
       "      <td>https://www.huffingtonpost.comhttp://d.repubbl...</td>\n",
       "      <td>Versace Atelier Worker Reflects On The Glory &amp;...</td>\n",
       "      <td>STYLE &amp; BEAUTY</td>\n",
       "      <td>Twenty-four hours before the fashion show, Don...</td>\n",
       "      <td></td>\n",
       "      <td>2012-02-23</td>\n",
       "    </tr>\n",
       "    <tr>\n",
       "      <th>207208</th>\n",
       "      <td>https://www.huffingtonpost.comhttp://d.repubbl...</td>\n",
       "      <td>Behind-The-Scenes Look At Prada's Workshop (VI...</td>\n",
       "      <td>STYLE &amp; BEAUTY</td>\n",
       "      <td>Exclusive worldwide and for the first time in ...</td>\n",
       "      <td></td>\n",
       "      <td>2012-02-22</td>\n",
       "    </tr>\n",
       "    <tr>\n",
       "      <th>207318</th>\n",
       "      <td>https://www.huffingtonpost.comhttp://d.repubbl...</td>\n",
       "      <td>Gucci's Frida Giannini Reveals Fashion Week Di...</td>\n",
       "      <td>STYLE &amp; BEAUTY</td>\n",
       "      <td>Frida Giannini reveals in this worldwide exclu...</td>\n",
       "      <td></td>\n",
       "      <td>2012-02-21</td>\n",
       "    </tr>\n",
       "  </tbody>\n",
       "</table>\n",
       "</div>"
      ],
      "text/plain": [
       "                                                     link  \\\n",
       "67677   https://www.huffingtonpost.comhttp://www.mothe...   \n",
       "67923   https://www.huffingtonpost.comhttp://gizmodo.c...   \n",
       "70239   https://www.huffingtonpost.comhttp://www.cnbc....   \n",
       "139830  https://www.huffingtonpost.comhttp://www.cnn.c...   \n",
       "144409  https://www.huffingtonpost.comhttp://www.upwor...   \n",
       "145142  https://www.huffingtonpost.comhttp://www.weath...   \n",
       "178155  https://www.huffingtonpost.comhttp://www.busin...   \n",
       "187329  https://www.huffingtonpost.comhttp://www.nytim...   \n",
       "194596  https://www.huffingtonpost.comhttp://blogs.wsj...   \n",
       "194598  https://www.huffingtonpost.comhttp://www.theda...   \n",
       "207122  https://www.huffingtonpost.comhttp://d.repubbl...   \n",
       "207208  https://www.huffingtonpost.comhttp://d.repubbl...   \n",
       "207318  https://www.huffingtonpost.comhttp://d.repubbl...   \n",
       "\n",
       "                                                 headline        category  \\\n",
       "67677   On Facebook, Trump's Longtime Butler Calls For...        POLITICS   \n",
       "67923   Former Facebook Workers: We Routinely Suppress...            TECH   \n",
       "70239         On Equal Pay Day, The Gap Is Still Too Wide           WOMEN   \n",
       "139830                The World's Most Dangerous Workout?        WELLNESS   \n",
       "144409  Some People Call It 'The Best Anti-Smoking Ad ...        WELLNESS   \n",
       "145142  10 Cities That Could Run Out Of Water - Weathe...     ENVIRONMENT   \n",
       "178155  Google Is Attacking Apple From The Inside Out ...            TECH   \n",
       "187329                      Eating For Health, Not Weight        WELLNESS   \n",
       "194596  Apple Removes Green EPEAT Electronics Certific...            TECH   \n",
       "194598  Microsoft's $6.2 Billion Writedown Shows It's ...            TECH   \n",
       "207122  Versace Atelier Worker Reflects On The Glory &...  STYLE & BEAUTY   \n",
       "207208  Behind-The-Scenes Look At Prada's Workshop (VI...  STYLE & BEAUTY   \n",
       "207318  Gucci's Frida Giannini Reveals Fashion Week Di...  STYLE & BEAUTY   \n",
       "\n",
       "                                        short_description authors       date  \n",
       "67677   Anthony Senecal, who worked as Donald Trump's ...         2016-05-12  \n",
       "67923   Facebook workers routinely suppressed news sto...         2016-05-09  \n",
       "70239   Equal Pay Day falls on April 12 in 2016. It's ...         2016-04-12  \n",
       "139830  Is the \"sport of fitness\" the world's most dan...         2014-02-10  \n",
       "144409  Almost all smokers know cigarettes are bad for...         2013-12-22  \n",
       "145142  Securing access to plentiful, renewable source...         2013-12-15  \n",
       "178155  After years of hammering away at Apple's share...         2013-01-01  \n",
       "187329  Almost half of Americans are on a diet -- not ...         2012-09-23  \n",
       "194596  Apple has pulled its products off the U.S. gov...         2012-07-07  \n",
       "194598  Fighting for online advertising dominance with...         2012-07-07  \n",
       "207122  Twenty-four hours before the fashion show, Don...         2012-02-23  \n",
       "207208  Exclusive worldwide and for the first time in ...         2012-02-22  \n",
       "207318  Frida Giannini reveals in this worldwide exclu...         2012-02-21  "
      ]
     },
     "execution_count": 143,
     "metadata": {},
     "output_type": "execute_result"
    }
   ],
   "source": [
    "duplicate_rows = df[df.duplicated()]\n",
    "duplicate_rows"
   ]
  },
  {
   "cell_type": "code",
   "execution_count": 144,
   "metadata": {},
   "outputs": [],
   "source": [
    "df = df.drop_duplicates()"
   ]
  },
  {
   "cell_type": "code",
   "execution_count": 145,
   "metadata": {},
   "outputs": [
    {
     "data": {
      "text/plain": [
       "476"
      ]
     },
     "execution_count": 145,
     "metadata": {},
     "output_type": "execute_result"
    }
   ],
   "source": [
    "df.duplicated(subset=['headline', 'short_description']).sum()"
   ]
  },
  {
   "cell_type": "code",
   "execution_count": 146,
   "metadata": {},
   "outputs": [
    {
     "data": {
      "text/html": [
       "<div>\n",
       "<style scoped>\n",
       "    .dataframe tbody tr th:only-of-type {\n",
       "        vertical-align: middle;\n",
       "    }\n",
       "\n",
       "    .dataframe tbody tr th {\n",
       "        vertical-align: top;\n",
       "    }\n",
       "\n",
       "    .dataframe thead th {\n",
       "        text-align: right;\n",
       "    }\n",
       "</style>\n",
       "<table border=\"1\" class=\"dataframe\">\n",
       "  <thead>\n",
       "    <tr style=\"text-align: right;\">\n",
       "      <th></th>\n",
       "      <th>link</th>\n",
       "      <th>headline</th>\n",
       "      <th>category</th>\n",
       "      <th>short_description</th>\n",
       "      <th>authors</th>\n",
       "      <th>date</th>\n",
       "    </tr>\n",
       "  </thead>\n",
       "  <tbody>\n",
       "    <tr>\n",
       "      <th>109100</th>\n",
       "      <td>https://www.huffingtonpost.com/entry/disney-ce...</td>\n",
       "      <td></td>\n",
       "      <td>BUSINESS</td>\n",
       "      <td></td>\n",
       "      <td>Gary Snyder, ContributorWriter and Media Strat...</td>\n",
       "      <td>2015-01-25</td>\n",
       "    </tr>\n",
       "    <tr>\n",
       "      <th>90944</th>\n",
       "      <td>https://www.huffingtonpost.com/entry/lincoln-2...</td>\n",
       "      <td></td>\n",
       "      <td>POLITICS</td>\n",
       "      <td></td>\n",
       "      <td>Robert Moran, ContributorRobert Moran leads Br...</td>\n",
       "      <td>2015-08-22</td>\n",
       "    </tr>\n",
       "    <tr>\n",
       "      <th>110153</th>\n",
       "      <td>https://www.huffingtonpost.com/entry/beverly-h...</td>\n",
       "      <td></td>\n",
       "      <td>MEDIA</td>\n",
       "      <td></td>\n",
       "      <td>Gary Snyder, ContributorWriter and Media Strat...</td>\n",
       "      <td>2015-01-13</td>\n",
       "    </tr>\n",
       "    <tr>\n",
       "      <th>103675</th>\n",
       "      <td>https://www.huffingtonpost.com/entry/us-and-eu...</td>\n",
       "      <td></td>\n",
       "      <td>WORLDPOST</td>\n",
       "      <td></td>\n",
       "      <td>Natasha Srdoc, ContributorAuthor, Economist, C...</td>\n",
       "      <td>2015-03-29</td>\n",
       "    </tr>\n",
       "    <tr>\n",
       "      <th>122145</th>\n",
       "      <td>https://www.huffingtonpost.com/entry/beverly-h...</td>\n",
       "      <td></td>\n",
       "      <td>QUEER VOICES</td>\n",
       "      <td></td>\n",
       "      <td>Gary Snyder, ContributorWriter and Media Strat...</td>\n",
       "      <td>2014-08-28</td>\n",
       "    </tr>\n",
       "    <tr>\n",
       "      <th>...</th>\n",
       "      <td>...</td>\n",
       "      <td>...</td>\n",
       "      <td>...</td>\n",
       "      <td>...</td>\n",
       "      <td>...</td>\n",
       "      <td>...</td>\n",
       "    </tr>\n",
       "    <tr>\n",
       "      <th>192998</th>\n",
       "      <td>https://www.huffingtonpost.com/entry/why-you-s...</td>\n",
       "      <td>Why You Should Watch The Summer Olympics With ...</td>\n",
       "      <td>PARENTING</td>\n",
       "      <td>Every parent wants his child to learn sportsma...</td>\n",
       "      <td>Betsy Brown Braun, Contributor\\nChild developm...</td>\n",
       "      <td>2012-07-24</td>\n",
       "    </tr>\n",
       "    <tr>\n",
       "      <th>19009</th>\n",
       "      <td>https://www.huffingtonpost.com/entry/octavia-s...</td>\n",
       "      <td>With This 'Shape Of Water' Clip, You'll Fall F...</td>\n",
       "      <td>ENTERTAINMENT</td>\n",
       "      <td>Spencer and Sally Hawkins play 1960s janitors ...</td>\n",
       "      <td>Matthew Jacobs</td>\n",
       "      <td>2017-12-05</td>\n",
       "    </tr>\n",
       "    <tr>\n",
       "      <th>18974</th>\n",
       "      <td>https://www.huffingtonpost.com/entry/the-shape...</td>\n",
       "      <td>With This 'Shape Of Water' Clip, You'll Fall F...</td>\n",
       "      <td>ENTERTAINMENT</td>\n",
       "      <td>Spencer and Sally Hawkins play 1960s janitors ...</td>\n",
       "      <td>Matthew Jacobs</td>\n",
       "      <td>2017-12-05</td>\n",
       "    </tr>\n",
       "    <tr>\n",
       "      <th>196025</th>\n",
       "      <td>https://www.huffingtonpost.com/entry/yves-sain...</td>\n",
       "      <td>Yves Saint Laurent Name Change: No More 'Yves'...</td>\n",
       "      <td>STYLE &amp; BEAUTY</td>\n",
       "      <td>According to Women's Wear Daily, Hedi Slimane ...</td>\n",
       "      <td></td>\n",
       "      <td>2012-06-21</td>\n",
       "    </tr>\n",
       "    <tr>\n",
       "      <th>196043</th>\n",
       "      <td>https://www.huffingtonpost.com/entry/yves-sain...</td>\n",
       "      <td>Yves Saint Laurent Name Change: No More 'Yves'...</td>\n",
       "      <td>STYLE &amp; BEAUTY</td>\n",
       "      <td>According to Women's Wear Daily, Hedi Slimane ...</td>\n",
       "      <td></td>\n",
       "      <td>2012-06-21</td>\n",
       "    </tr>\n",
       "  </tbody>\n",
       "</table>\n",
       "<p>673 rows × 6 columns</p>\n",
       "</div>"
      ],
      "text/plain": [
       "                                                     link  \\\n",
       "109100  https://www.huffingtonpost.com/entry/disney-ce...   \n",
       "90944   https://www.huffingtonpost.com/entry/lincoln-2...   \n",
       "110153  https://www.huffingtonpost.com/entry/beverly-h...   \n",
       "103675  https://www.huffingtonpost.com/entry/us-and-eu...   \n",
       "122145  https://www.huffingtonpost.com/entry/beverly-h...   \n",
       "...                                                   ...   \n",
       "192998  https://www.huffingtonpost.com/entry/why-you-s...   \n",
       "19009   https://www.huffingtonpost.com/entry/octavia-s...   \n",
       "18974   https://www.huffingtonpost.com/entry/the-shape...   \n",
       "196025  https://www.huffingtonpost.com/entry/yves-sain...   \n",
       "196043  https://www.huffingtonpost.com/entry/yves-sain...   \n",
       "\n",
       "                                                 headline        category  \\\n",
       "109100                                                           BUSINESS   \n",
       "90944                                                            POLITICS   \n",
       "110153                                                              MEDIA   \n",
       "103675                                                          WORLDPOST   \n",
       "122145                                                       QUEER VOICES   \n",
       "...                                                   ...             ...   \n",
       "192998  Why You Should Watch The Summer Olympics With ...       PARENTING   \n",
       "19009   With This 'Shape Of Water' Clip, You'll Fall F...   ENTERTAINMENT   \n",
       "18974   With This 'Shape Of Water' Clip, You'll Fall F...   ENTERTAINMENT   \n",
       "196025  Yves Saint Laurent Name Change: No More 'Yves'...  STYLE & BEAUTY   \n",
       "196043  Yves Saint Laurent Name Change: No More 'Yves'...  STYLE & BEAUTY   \n",
       "\n",
       "                                        short_description  \\\n",
       "109100                                                      \n",
       "90944                                                       \n",
       "110153                                                      \n",
       "103675                                                      \n",
       "122145                                                      \n",
       "...                                                   ...   \n",
       "192998  Every parent wants his child to learn sportsma...   \n",
       "19009   Spencer and Sally Hawkins play 1960s janitors ...   \n",
       "18974   Spencer and Sally Hawkins play 1960s janitors ...   \n",
       "196025  According to Women's Wear Daily, Hedi Slimane ...   \n",
       "196043  According to Women's Wear Daily, Hedi Slimane ...   \n",
       "\n",
       "                                                  authors       date  \n",
       "109100  Gary Snyder, ContributorWriter and Media Strat... 2015-01-25  \n",
       "90944   Robert Moran, ContributorRobert Moran leads Br... 2015-08-22  \n",
       "110153  Gary Snyder, ContributorWriter and Media Strat... 2015-01-13  \n",
       "103675  Natasha Srdoc, ContributorAuthor, Economist, C... 2015-03-29  \n",
       "122145  Gary Snyder, ContributorWriter and Media Strat... 2014-08-28  \n",
       "...                                                   ...        ...  \n",
       "192998  Betsy Brown Braun, Contributor\\nChild developm... 2012-07-24  \n",
       "19009                                      Matthew Jacobs 2017-12-05  \n",
       "18974                                      Matthew Jacobs 2017-12-05  \n",
       "196025                                                    2012-06-21  \n",
       "196043                                                    2012-06-21  \n",
       "\n",
       "[673 rows x 6 columns]"
      ]
     },
     "execution_count": 146,
     "metadata": {},
     "output_type": "execute_result"
    }
   ],
   "source": [
    "# Mostrando duplicatas \n",
    "df[df.duplicated(subset=['headline', 'short_description'], keep=False)].sort_values('headline')"
   ]
  },
  {
   "cell_type": "code",
   "execution_count": 147,
   "metadata": {},
   "outputs": [],
   "source": [
    "df = df.drop_duplicates(subset=['headline', 'short_description'])"
   ]
  },
  {
   "cell_type": "code",
   "execution_count": 148,
   "metadata": {},
   "outputs": [
    {
     "data": {
      "text/plain": [
       "link                 209038\n",
       "headline             209038\n",
       "category             209038\n",
       "short_description    209038\n",
       "authors              209038\n",
       "date                 209038\n",
       "dtype: int64"
      ]
     },
     "execution_count": 148,
     "metadata": {},
     "output_type": "execute_result"
    }
   ],
   "source": [
    "df.count()"
   ]
  },
  {
   "cell_type": "markdown",
   "metadata": {},
   "source": [
    "## Células vazias"
   ]
  },
  {
   "cell_type": "code",
   "execution_count": 149,
   "metadata": {},
   "outputs": [
    {
     "data": {
      "text/plain": [
       "False"
      ]
     },
     "execution_count": 149,
     "metadata": {},
     "output_type": "execute_result"
    }
   ],
   "source": [
    "df.isnull().any().any()"
   ]
  },
  {
   "cell_type": "code",
   "execution_count": 150,
   "metadata": {},
   "outputs": [
    {
     "data": {
      "text/html": [
       "<div>\n",
       "<style scoped>\n",
       "    .dataframe tbody tr th:only-of-type {\n",
       "        vertical-align: middle;\n",
       "    }\n",
       "\n",
       "    .dataframe tbody tr th {\n",
       "        vertical-align: top;\n",
       "    }\n",
       "\n",
       "    .dataframe thead th {\n",
       "        text-align: right;\n",
       "    }\n",
       "</style>\n",
       "<table border=\"1\" class=\"dataframe\">\n",
       "  <thead>\n",
       "    <tr style=\"text-align: right;\">\n",
       "      <th></th>\n",
       "      <th>link</th>\n",
       "      <th>headline</th>\n",
       "      <th>category</th>\n",
       "      <th>short_description</th>\n",
       "      <th>authors</th>\n",
       "      <th>date</th>\n",
       "    </tr>\n",
       "  </thead>\n",
       "  <tbody>\n",
       "    <tr>\n",
       "      <th>90944</th>\n",
       "      <td>https://www.huffingtonpost.com/entry/lincoln-2...</td>\n",
       "      <td></td>\n",
       "      <td>POLITICS</td>\n",
       "      <td></td>\n",
       "      <td>Robert Moran, ContributorRobert Moran leads Br...</td>\n",
       "      <td>2015-08-22</td>\n",
       "    </tr>\n",
       "    <tr>\n",
       "      <th>95567</th>\n",
       "      <td>https://www.huffingtonpost.com/entry/post_9671...</td>\n",
       "      <td></td>\n",
       "      <td>RELIGION</td>\n",
       "      <td>Let everyone not wrapped in tired and disprove...</td>\n",
       "      <td>Matthew Fox, ContributorRadical theologian Mat...</td>\n",
       "      <td>2015-06-30</td>\n",
       "    </tr>\n",
       "  </tbody>\n",
       "</table>\n",
       "</div>"
      ],
      "text/plain": [
       "                                                    link headline  category  \\\n",
       "90944  https://www.huffingtonpost.com/entry/lincoln-2...           POLITICS   \n",
       "95567  https://www.huffingtonpost.com/entry/post_9671...           RELIGION   \n",
       "\n",
       "                                       short_description  \\\n",
       "90944                                                      \n",
       "95567  Let everyone not wrapped in tired and disprove...   \n",
       "\n",
       "                                                 authors       date  \n",
       "90944  Robert Moran, ContributorRobert Moran leads Br... 2015-08-22  \n",
       "95567  Matthew Fox, ContributorRadical theologian Mat... 2015-06-30  "
      ]
     },
     "execution_count": 150,
     "metadata": {},
     "output_type": "execute_result"
    }
   ],
   "source": [
    "# Verificando se há string vazia em 'headline'\n",
    "headline_empty = df[df['headline'] == '']\n",
    "headline_empty"
   ]
  },
  {
   "cell_type": "code",
   "execution_count": 151,
   "metadata": {},
   "outputs": [],
   "source": [
    "# Removendo linhas com string vazia em 'headline'\n",
    "df = df[df['headline'] != '']"
   ]
  },
  {
   "cell_type": "code",
   "execution_count": 152,
   "metadata": {},
   "outputs": [
    {
     "data": {
      "text/html": [
       "<div>\n",
       "<style scoped>\n",
       "    .dataframe tbody tr th:only-of-type {\n",
       "        vertical-align: middle;\n",
       "    }\n",
       "\n",
       "    .dataframe tbody tr th {\n",
       "        vertical-align: top;\n",
       "    }\n",
       "\n",
       "    .dataframe thead th {\n",
       "        text-align: right;\n",
       "    }\n",
       "</style>\n",
       "<table border=\"1\" class=\"dataframe\">\n",
       "  <thead>\n",
       "    <tr style=\"text-align: right;\">\n",
       "      <th></th>\n",
       "      <th>link</th>\n",
       "      <th>headline</th>\n",
       "      <th>category</th>\n",
       "      <th>short_description</th>\n",
       "      <th>authors</th>\n",
       "      <th>date</th>\n",
       "    </tr>\n",
       "  </thead>\n",
       "  <tbody>\n",
       "    <tr>\n",
       "      <th>20773</th>\n",
       "      <td>https://www.huffingtonpost.com/entry/the-big-b...</td>\n",
       "      <td>The Big Blue Wave</td>\n",
       "      <td>COMEDY</td>\n",
       "      <td></td>\n",
       "      <td>Shan Wells, ContributorSciency sun venerator +...</td>\n",
       "      <td>2017-11-10</td>\n",
       "    </tr>\n",
       "    <tr>\n",
       "      <th>21523</th>\n",
       "      <td>https://www.huffingtonpost.com/entry/inside-ru...</td>\n",
       "      <td>Inside Rukban Camp, One Of Syria’s Most Desper...</td>\n",
       "      <td>WORLD NEWS</td>\n",
       "      <td></td>\n",
       "      <td>Yasser Allawi, Syria Deeply</td>\n",
       "      <td>2017-10-31</td>\n",
       "    </tr>\n",
       "    <tr>\n",
       "      <th>22793</th>\n",
       "      <td>https://www.huffingtonpost.com/entry/syrian-re...</td>\n",
       "      <td>Syrian Refugees Return From Lebanon Only To Fl...</td>\n",
       "      <td>WORLD NEWS</td>\n",
       "      <td></td>\n",
       "      <td>Abby Sewell, Refugees Deeply</td>\n",
       "      <td>2017-10-14</td>\n",
       "    </tr>\n",
       "    <tr>\n",
       "      <th>32223</th>\n",
       "      <td>https://www.huffingtonpost.com/entry/your-guid...</td>\n",
       "      <td>Your Guide To The Best BBQ In St. Louis Accord...</td>\n",
       "      <td>TASTE</td>\n",
       "      <td></td>\n",
       "      <td></td>\n",
       "      <td>2017-06-19</td>\n",
       "    </tr>\n",
       "    <tr>\n",
       "      <th>34488</th>\n",
       "      <td>https://www.huffingtonpost.com/entry/the-bechd...</td>\n",
       "      <td>The Bechdel Test</td>\n",
       "      <td>COMEDY</td>\n",
       "      <td></td>\n",
       "      <td>Hilary Fitzgerald Campbell, ContributorHilary'...</td>\n",
       "      <td>2017-05-24</td>\n",
       "    </tr>\n",
       "    <tr>\n",
       "      <th>...</th>\n",
       "      <td>...</td>\n",
       "      <td>...</td>\n",
       "      <td>...</td>\n",
       "      <td>...</td>\n",
       "      <td>...</td>\n",
       "      <td>...</td>\n",
       "    </tr>\n",
       "    <tr>\n",
       "      <th>206924</th>\n",
       "      <td>https://www.huffingtonpost.com/entry/true-lgbt...</td>\n",
       "      <td>True LGBTQ Stories: When A College Football Te...</td>\n",
       "      <td>QUEER VOICES</td>\n",
       "      <td></td>\n",
       "      <td>Nathan Manske, Contributor\\nExecutive Director...</td>\n",
       "      <td>2012-02-25</td>\n",
       "    </tr>\n",
       "    <tr>\n",
       "      <th>206939</th>\n",
       "      <td>https://www.huffingtonpost.com/entry/chasing-i...</td>\n",
       "      <td>'Chasing Ice' -- The Climate Change Debate Is ...</td>\n",
       "      <td>ENVIRONMENT</td>\n",
       "      <td></td>\n",
       "      <td>Greg Reitman, Contributor\\nFounder of Blue Wat...</td>\n",
       "      <td>2012-02-25</td>\n",
       "    </tr>\n",
       "    <tr>\n",
       "      <th>208803</th>\n",
       "      <td>https://www.huffingtonpost.com/entry/love-is-l...</td>\n",
       "      <td>Practice for International Kissing Day: 'Love ...</td>\n",
       "      <td>IMPACT</td>\n",
       "      <td></td>\n",
       "      <td>Karen Dalton-Beninato, Contributor\\nWriter Nea...</td>\n",
       "      <td>2012-02-05</td>\n",
       "    </tr>\n",
       "    <tr>\n",
       "      <th>208865</th>\n",
       "      <td>https://www.huffingtonpost.com/entry/zach-hust...</td>\n",
       "      <td>Zach Huston, Victim of Brutal Ohio School Bull...</td>\n",
       "      <td>QUEER VOICES</td>\n",
       "      <td></td>\n",
       "      <td>Ian Thompson, Contributor\\nLegislative Represe...</td>\n",
       "      <td>2012-02-04</td>\n",
       "    </tr>\n",
       "    <tr>\n",
       "      <th>208940</th>\n",
       "      <td>https://www.huffingtonpost.com/entry/nail-tren...</td>\n",
       "      <td>5 Nail Trends That You Can Actually Do Yourself</td>\n",
       "      <td>STYLE &amp; BEAUTY</td>\n",
       "      <td></td>\n",
       "      <td>Brooke Moreland, Contributor\\nContributor</td>\n",
       "      <td>2012-02-03</td>\n",
       "    </tr>\n",
       "  </tbody>\n",
       "</table>\n",
       "<p>19610 rows × 6 columns</p>\n",
       "</div>"
      ],
      "text/plain": [
       "                                                     link  \\\n",
       "20773   https://www.huffingtonpost.com/entry/the-big-b...   \n",
       "21523   https://www.huffingtonpost.com/entry/inside-ru...   \n",
       "22793   https://www.huffingtonpost.com/entry/syrian-re...   \n",
       "32223   https://www.huffingtonpost.com/entry/your-guid...   \n",
       "34488   https://www.huffingtonpost.com/entry/the-bechd...   \n",
       "...                                                   ...   \n",
       "206924  https://www.huffingtonpost.com/entry/true-lgbt...   \n",
       "206939  https://www.huffingtonpost.com/entry/chasing-i...   \n",
       "208803  https://www.huffingtonpost.com/entry/love-is-l...   \n",
       "208865  https://www.huffingtonpost.com/entry/zach-hust...   \n",
       "208940  https://www.huffingtonpost.com/entry/nail-tren...   \n",
       "\n",
       "                                                 headline        category  \\\n",
       "20773                                   The Big Blue Wave          COMEDY   \n",
       "21523   Inside Rukban Camp, One Of Syria’s Most Desper...      WORLD NEWS   \n",
       "22793   Syrian Refugees Return From Lebanon Only To Fl...      WORLD NEWS   \n",
       "32223   Your Guide To The Best BBQ In St. Louis Accord...           TASTE   \n",
       "34488                                    The Bechdel Test          COMEDY   \n",
       "...                                                   ...             ...   \n",
       "206924  True LGBTQ Stories: When A College Football Te...    QUEER VOICES   \n",
       "206939  'Chasing Ice' -- The Climate Change Debate Is ...     ENVIRONMENT   \n",
       "208803  Practice for International Kissing Day: 'Love ...          IMPACT   \n",
       "208865  Zach Huston, Victim of Brutal Ohio School Bull...    QUEER VOICES   \n",
       "208940    5 Nail Trends That You Can Actually Do Yourself  STYLE & BEAUTY   \n",
       "\n",
       "       short_description                                            authors  \\\n",
       "20773                     Shan Wells, ContributorSciency sun venerator +...   \n",
       "21523                                           Yasser Allawi, Syria Deeply   \n",
       "22793                                          Abby Sewell, Refugees Deeply   \n",
       "32223                                                                         \n",
       "34488                     Hilary Fitzgerald Campbell, ContributorHilary'...   \n",
       "...                  ...                                                ...   \n",
       "206924                    Nathan Manske, Contributor\\nExecutive Director...   \n",
       "206939                    Greg Reitman, Contributor\\nFounder of Blue Wat...   \n",
       "208803                    Karen Dalton-Beninato, Contributor\\nWriter Nea...   \n",
       "208865                    Ian Thompson, Contributor\\nLegislative Represe...   \n",
       "208940                            Brooke Moreland, Contributor\\nContributor   \n",
       "\n",
       "             date  \n",
       "20773  2017-11-10  \n",
       "21523  2017-10-31  \n",
       "22793  2017-10-14  \n",
       "32223  2017-06-19  \n",
       "34488  2017-05-24  \n",
       "...           ...  \n",
       "206924 2012-02-25  \n",
       "206939 2012-02-25  \n",
       "208803 2012-02-05  \n",
       "208865 2012-02-04  \n",
       "208940 2012-02-03  \n",
       "\n",
       "[19610 rows x 6 columns]"
      ]
     },
     "execution_count": 152,
     "metadata": {},
     "output_type": "execute_result"
    }
   ],
   "source": [
    "# Verificando se há string vazia em 'short_description'\n",
    "short_description_empty = df[df['short_description'] == '']\n",
    "short_description_empty"
   ]
  },
  {
   "cell_type": "code",
   "execution_count": 153,
   "metadata": {},
   "outputs": [],
   "source": [
    "# Removendo linhas com string vazia em 'short_description'\n",
    "df = df[df['short_description'] != '']"
   ]
  },
  {
   "cell_type": "code",
   "execution_count": 154,
   "metadata": {},
   "outputs": [
    {
     "data": {
      "text/plain": [
       "link                 189426\n",
       "headline             189426\n",
       "category             189426\n",
       "short_description    189426\n",
       "authors              189426\n",
       "date                 189426\n",
       "dtype: int64"
      ]
     },
     "execution_count": 154,
     "metadata": {},
     "output_type": "execute_result"
    }
   ],
   "source": [
    "df.count()"
   ]
  },
  {
   "cell_type": "markdown",
   "metadata": {},
   "source": [
    "# Categorias"
   ]
  },
  {
   "cell_type": "code",
   "execution_count": 155,
   "metadata": {},
   "outputs": [
    {
     "data": {
      "text/plain": [
       "category\n",
       "POLITICS          32427\n",
       "WELLNESS          17937\n",
       "ENTERTAINMENT     14772\n",
       "STYLE & BEAUTY     9667\n",
       "TRAVEL             9417\n",
       "PARENTING          8762\n",
       "FOOD & DRINK       6330\n",
       "QUEER VOICES       5601\n",
       "HEALTHY LIVING     5264\n",
       "BUSINESS           5129\n",
       "COMEDY             4642\n",
       "SPORTS             4414\n",
       "HOME & LIVING      4285\n",
       "BLACK VOICES       4173\n",
       "THE WORLDPOST      3664\n",
       "WEDDINGS           3653\n",
       "PARENTS            3516\n",
       "DIVORCE            3423\n",
       "WORLD NEWS         3295\n",
       "WOMEN              3136\n",
       "IMPACT             3085\n",
       "CRIME              2831\n",
       "MEDIA              2402\n",
       "WEIRD NEWS         2316\n",
       "TECH               2054\n",
       "GREEN              2044\n",
       "TASTE              1940\n",
       "RELIGION           1877\n",
       "SCIENCE            1803\n",
       "MONEY              1754\n",
       "STYLE              1564\n",
       "ENVIRONMENT        1441\n",
       "U.S. NEWS          1377\n",
       "ARTS & CULTURE     1338\n",
       "WORLDPOST          1242\n",
       "CULTURE & ARTS     1062\n",
       "FIFTY              1042\n",
       "GOOD NEWS          1039\n",
       "LATINO VOICES      1022\n",
       "COLLEGE             921\n",
       "EDUCATION           902\n",
       "ARTS                863\n",
       "Name: count, dtype: int64"
      ]
     },
     "execution_count": 155,
     "metadata": {},
     "output_type": "execute_result"
    }
   ],
   "source": [
    "categories_count = df['category'].value_counts()\n",
    "categories_count"
   ]
  },
  {
   "cell_type": "code",
   "execution_count": 156,
   "metadata": {},
   "outputs": [
    {
     "data": {
      "image/png": "[encoded data removed]",
      "text/plain": [
       "<Figure size 1000x500 with 1 Axes>"
      ]
     },
     "metadata": {},
     "output_type": "display_data"
    }
   ],
   "source": [
    "# Visualizando a quantidade de notícias por categoria\n",
    "df['category'].value_counts().plot(kind='bar', figsize=(10, 5))\n",
    "plt.title('Quantidade de notícias por categoria')\n",
    "plt.xlabel('Categoria')\n",
    "plt.ylabel('Quantidade')\n",
    "plt.show()"
   ]
  },
  {
   "cell_type": "code",
   "execution_count": 157,
   "metadata": {},
   "outputs": [
    {
     "data": {
      "image/png": "[encoded data removed]",
      "text/plain": [
       "<Figure size 640x480 with 1 Axes>"
      ]
     },
     "metadata": {},
     "output_type": "display_data"
    }
   ],
   "source": [
    "ax = categories_count.plot.hist(bins=42)"
   ]
  },
  {
   "cell_type": "code",
   "execution_count": 158,
   "metadata": {},
   "outputs": [
    {
     "data": {
      "text/plain": [
       "category\n",
       "POLITICS          32427\n",
       "WELLNESS          17937\n",
       "ENTERTAINMENT     14772\n",
       "STYLE & BEAUTY     9667\n",
       "TRAVEL             9417\n",
       "PARENTING          8762\n",
       "FOOD & DRINK       6330\n",
       "Name: count, dtype: int64"
      ]
     },
     "execution_count": 158,
     "metadata": {},
     "output_type": "execute_result"
    }
   ],
   "source": [
    "# Selecionando as 7 categorias com mais notícias\n",
    "top_categories = categories_count[:7].index\n",
    "top_categories\n",
    "\n",
    "# Filtrando as notícias das 7 categorias com mais notícias\n",
    "df = df[df['category'].isin(top_categories)]\n",
    "df['category'].value_counts()"
   ]
  },
  {
   "cell_type": "code",
   "execution_count": 159,
   "metadata": {},
   "outputs": [
    {
     "data": {
      "text/plain": [
       "link                 99312\n",
       "headline             99312\n",
       "category             99312\n",
       "short_description    99312\n",
       "authors              99312\n",
       "date                 99312\n",
       "dtype: int64"
      ]
     },
     "execution_count": 159,
     "metadata": {},
     "output_type": "execute_result"
    }
   ],
   "source": [
    "df.count()"
   ]
  },
  {
   "cell_type": "markdown",
   "metadata": {},
   "source": [
    "# Quantidade de palavras"
   ]
  },
  {
   "cell_type": "code",
   "execution_count": 160,
   "metadata": {},
   "outputs": [
    {
     "data": {
      "text/html": [
       "<div>\n",
       "<style scoped>\n",
       "    .dataframe tbody tr th:only-of-type {\n",
       "        vertical-align: middle;\n",
       "    }\n",
       "\n",
       "    .dataframe tbody tr th {\n",
       "        vertical-align: top;\n",
       "    }\n",
       "\n",
       "    .dataframe thead th {\n",
       "        text-align: right;\n",
       "    }\n",
       "</style>\n",
       "<table border=\"1\" class=\"dataframe\">\n",
       "  <thead>\n",
       "    <tr style=\"text-align: right;\">\n",
       "      <th></th>\n",
       "      <th>link</th>\n",
       "      <th>headline</th>\n",
       "      <th>category</th>\n",
       "      <th>short_description</th>\n",
       "      <th>authors</th>\n",
       "      <th>date</th>\n",
       "      <th>word_length_headline</th>\n",
       "      <th>word_length_description</th>\n",
       "      <th>total_word_length</th>\n",
       "    </tr>\n",
       "  </thead>\n",
       "  <tbody>\n",
       "    <tr>\n",
       "      <th>3</th>\n",
       "      <td>https://www.huffpost.com/entry/funniest-parent...</td>\n",
       "      <td>The Funniest Tweets From Parents This Week (Se...</td>\n",
       "      <td>PARENTING</td>\n",
       "      <td>\"Accidentally put grown-up toothpaste on my to...</td>\n",
       "      <td>Caroline Bologna</td>\n",
       "      <td>2022-09-23</td>\n",
       "      <td>9</td>\n",
       "      <td>25</td>\n",
       "      <td>34</td>\n",
       "    </tr>\n",
       "    <tr>\n",
       "      <th>20</th>\n",
       "      <td>https://www.huffpost.com/entry/golden-globes-r...</td>\n",
       "      <td>Golden Globes Returning To NBC In January Afte...</td>\n",
       "      <td>ENTERTAINMENT</td>\n",
       "      <td>For the past 18 months, Hollywood has effectiv...</td>\n",
       "      <td></td>\n",
       "      <td>2022-09-20</td>\n",
       "      <td>10</td>\n",
       "      <td>25</td>\n",
       "      <td>35</td>\n",
       "    </tr>\n",
       "    <tr>\n",
       "      <th>21</th>\n",
       "      <td>https://www.huffpost.com/entry/biden-us-forces...</td>\n",
       "      <td>Biden Says U.S. Forces Would Defend Taiwan If ...</td>\n",
       "      <td>POLITICS</td>\n",
       "      <td>President issues vow as tensions with China rise.</td>\n",
       "      <td></td>\n",
       "      <td>2022-09-19</td>\n",
       "      <td>10</td>\n",
       "      <td>8</td>\n",
       "      <td>18</td>\n",
       "    </tr>\n",
       "    <tr>\n",
       "      <th>24</th>\n",
       "      <td>https://www.huffpost.com/entry/ukraine-festiva...</td>\n",
       "      <td>‘Beautiful And Sad At The Same Time’: Ukrainia...</td>\n",
       "      <td>POLITICS</td>\n",
       "      <td>An annual celebration took on a different feel...</td>\n",
       "      <td>Jonathan Nicholson</td>\n",
       "      <td>2022-09-19</td>\n",
       "      <td>17</td>\n",
       "      <td>15</td>\n",
       "      <td>32</td>\n",
       "    </tr>\n",
       "    <tr>\n",
       "      <th>28</th>\n",
       "      <td>https://www.huffpost.com/entry/james-cameron-f...</td>\n",
       "      <td>James Cameron Says He 'Clashed' With Studio Be...</td>\n",
       "      <td>ENTERTAINMENT</td>\n",
       "      <td>The \"Avatar\" director said aspects of his 2009...</td>\n",
       "      <td>Ben Blanchet</td>\n",
       "      <td>2022-09-18</td>\n",
       "      <td>10</td>\n",
       "      <td>19</td>\n",
       "      <td>29</td>\n",
       "    </tr>\n",
       "  </tbody>\n",
       "</table>\n",
       "</div>"
      ],
      "text/plain": [
       "                                                 link  \\\n",
       "3   https://www.huffpost.com/entry/funniest-parent...   \n",
       "20  https://www.huffpost.com/entry/golden-globes-r...   \n",
       "21  https://www.huffpost.com/entry/biden-us-forces...   \n",
       "24  https://www.huffpost.com/entry/ukraine-festiva...   \n",
       "28  https://www.huffpost.com/entry/james-cameron-f...   \n",
       "\n",
       "                                             headline       category  \\\n",
       "3   The Funniest Tweets From Parents This Week (Se...      PARENTING   \n",
       "20  Golden Globes Returning To NBC In January Afte...  ENTERTAINMENT   \n",
       "21  Biden Says U.S. Forces Would Defend Taiwan If ...       POLITICS   \n",
       "24  ‘Beautiful And Sad At The Same Time’: Ukrainia...       POLITICS   \n",
       "28  James Cameron Says He 'Clashed' With Studio Be...  ENTERTAINMENT   \n",
       "\n",
       "                                    short_description             authors  \\\n",
       "3   \"Accidentally put grown-up toothpaste on my to...    Caroline Bologna   \n",
       "20  For the past 18 months, Hollywood has effectiv...                       \n",
       "21  President issues vow as tensions with China rise.                       \n",
       "24  An annual celebration took on a different feel...  Jonathan Nicholson   \n",
       "28  The \"Avatar\" director said aspects of his 2009...        Ben Blanchet   \n",
       "\n",
       "         date  word_length_headline  word_length_description  \\\n",
       "3  2022-09-23                     9                       25   \n",
       "20 2022-09-20                    10                       25   \n",
       "21 2022-09-19                    10                        8   \n",
       "24 2022-09-19                    17                       15   \n",
       "28 2022-09-18                    10                       19   \n",
       "\n",
       "    total_word_length  \n",
       "3                  34  \n",
       "20                 35  \n",
       "21                 18  \n",
       "24                 32  \n",
       "28                 29  "
      ]
     },
     "execution_count": 160,
     "metadata": {},
     "output_type": "execute_result"
    }
   ],
   "source": [
    "# Calculando a quantidade de palavras em cada notícia e colocando em uma nova coluna\n",
    "df_word_length = df.copy()\n",
    "df_word_length['word_length_headline'] = df['headline'].apply(lambda x: len(x.split()))\n",
    "df_word_length['word_length_description'] = df['short_description'].apply(lambda x: len(x.split()))\n",
    "df_word_length['total_word_length'] = df_word_length['word_length_headline'] + df_word_length['word_length_description']\n",
    "\n",
    "df_word_length.head()"
   ]
  },
  {
   "cell_type": "code",
   "execution_count": 161,
   "metadata": {},
   "outputs": [
    {
     "data": {
      "image/png": "[encoded data removed]",
      "text/plain": [
       "<Figure size 1000x500 with 1 Axes>"
      ]
     },
     "metadata": {},
     "output_type": "display_data"
    }
   ],
   "source": [
    "# Visualizando a quantidade de palavras em cada manchete\n",
    "df_word_length['word_length_headline'].plot(kind='hist', bins=20, figsize=(10, 5))\n",
    "plt.title('Quantidade de palavras em cada manchete')\n",
    "plt.xlabel('Quantidade de palavras')\n",
    "plt.ylabel('Frequência')\n",
    "plt.show()"
   ]
  },
  {
   "cell_type": "code",
   "execution_count": 162,
   "metadata": {},
   "outputs": [
    {
     "data": {
      "text/plain": [
       "count    99312.000000\n",
       "mean         9.549883\n",
       "std          3.191525\n",
       "min          1.000000\n",
       "25%          7.000000\n",
       "50%         10.000000\n",
       "75%         12.000000\n",
       "max         44.000000\n",
       "Name: word_length_headline, dtype: float64"
      ]
     },
     "execution_count": 162,
     "metadata": {},
     "output_type": "execute_result"
    }
   ],
   "source": [
    "df_word_length['word_length_headline'].describe()"
   ]
  },
  {
   "cell_type": "code",
   "execution_count": 163,
   "metadata": {},
   "outputs": [
    {
     "data": {
      "image/png": "[encoded data removed]",
      "text/plain": [
       "<Figure size 1000x500 with 1 Axes>"
      ]
     },
     "metadata": {},
     "output_type": "display_data"
    }
   ],
   "source": [
    "# Visualizando a quantidade de palavras em cada descrição\n",
    "df_word_length['word_length_description'].plot(kind='hist', bins=40, figsize=(10, 5), color='red')\n",
    "plt.title('Quantidade de palavras em cada descrição')\n",
    "plt.xlabel('Quantidade de palavras')\n",
    "plt.ylabel('Frequência')\n",
    "plt.show()"
   ]
  },
  {
   "cell_type": "code",
   "execution_count": 164,
   "metadata": {},
   "outputs": [
    {
     "data": {
      "text/plain": [
       "count    99312.000000\n",
       "mean        22.049521\n",
       "std         13.186031\n",
       "min          1.000000\n",
       "25%         13.000000\n",
       "50%         20.000000\n",
       "75%         26.000000\n",
       "max        243.000000\n",
       "Name: word_length_description, dtype: float64"
      ]
     },
     "execution_count": 164,
     "metadata": {},
     "output_type": "execute_result"
    }
   ],
   "source": [
    "df_word_length['word_length_description'].describe()"
   ]
  },
  {
   "cell_type": "code",
   "execution_count": 165,
   "metadata": {},
   "outputs": [
    {
     "data": {
      "image/png": "[encoded data removed]",
      "text/plain": [
       "<Figure size 1000x500 with 1 Axes>"
      ]
     },
     "metadata": {},
     "output_type": "display_data"
    }
   ],
   "source": [
    "# Mostrando o total de palavras em todas as manchetes, com descrição e manchetes\n",
    "\n",
    "df_word_length['total_word_length'].plot(kind='hist', bins=40, figsize=(10, 5), color='green')\n",
    "plt.title('Quantidade de palavras em cada notícia')\n",
    "plt.xlabel('Quantidade de palavras')\n",
    "plt.ylabel('Frequência')\n",
    "plt.show()\n"
   ]
  },
  {
   "cell_type": "code",
   "execution_count": 166,
   "metadata": {},
   "outputs": [
    {
     "data": {
      "text/plain": [
       "count    99312.000000\n",
       "mean        31.599404\n",
       "std         12.590912\n",
       "min          3.000000\n",
       "25%         24.000000\n",
       "50%         30.000000\n",
       "75%         36.000000\n",
       "max        245.000000\n",
       "Name: total_word_length, dtype: float64"
      ]
     },
     "execution_count": 166,
     "metadata": {},
     "output_type": "execute_result"
    }
   ],
   "source": [
    "# Visualizando a quantidade de palavras em cada notícia\n",
    "df_word_length['total_word_length'].describe()"
   ]
  },
  {
   "cell_type": "code",
   "execution_count": 167,
   "metadata": {},
   "outputs": [
    {
     "name": "stdout",
     "output_type": "stream",
     "text": [
      "Q1 - 1.5*IQR: 6.0\n",
      "Quantidade de notícias com quantidade de palavras total menor que 1.5*IQR: 20\n"
     ]
    }
   ],
   "source": [
    "# Removendo as noticias com quantidade de palavras total menor que 1.5*IQR\n",
    "\n",
    "Q1 = df_word_length['total_word_length'].quantile(0.25)\n",
    "Q3 = df_word_length['total_word_length'].quantile(0.75)\n",
    "IQR = Q3 - Q1\n",
    "\n",
    "# Calculando a quantidade de palavra total menor que 1.5*IQR\n",
    "print('Q1 - 1.5*IQR:', Q1 - 1.5*IQR)\n",
    "print('Quantidade de notícias com quantidade de palavras total menor que 1.5*IQR:', df_word_length[df_word_length['total_word_length'] < (Q1 - 1.5 * IQR)]['total_word_length'].count())\n",
    "\n",
    "# Removendo as noticias com quantidade de palavras total menor que 1.5*IQR\n",
    "df = df_word_length[df_word_length['total_word_length'] > (Q1 - 1.5 * IQR)]"
   ]
  },
  {
   "cell_type": "code",
   "execution_count": 168,
   "metadata": {},
   "outputs": [
    {
     "data": {
      "text/plain": [
       "link                       99285\n",
       "headline                   99285\n",
       "category                   99285\n",
       "short_description          99285\n",
       "authors                    99285\n",
       "date                       99285\n",
       "word_length_headline       99285\n",
       "word_length_description    99285\n",
       "total_word_length          99285\n",
       "dtype: int64"
      ]
     },
     "execution_count": 168,
     "metadata": {},
     "output_type": "execute_result"
    }
   ],
   "source": [
    "df.count()"
   ]
  },
  {
   "cell_type": "markdown",
   "metadata": {},
   "source": [
    "# Tratamento em nível de tokens"
   ]
  },
  {
   "cell_type": "markdown",
   "metadata": {},
   "source": [
    "## Tokenização"
   ]
  },
  {
   "cell_type": "code",
   "execution_count": 169,
   "metadata": {},
   "outputs": [
    {
     "data": {
      "text/plain": [
       "'\"Accidentally put grown-up toothpaste on my toddler’s toothbrush and he screamed like I was cleaning his teeth with a Carolina Reaper dipped in Tabasco sauce.\"'"
      ]
     },
     "execution_count": 169,
     "metadata": {},
     "output_type": "execute_result"
    }
   ],
   "source": [
    "raw = df['short_description'].iloc[0]\n",
    "raw"
   ]
  },
  {
   "cell_type": "code",
   "execution_count": 170,
   "metadata": {},
   "outputs": [
    {
     "data": {
      "text/plain": [
       "['``',\n",
       " 'Accidentally',\n",
       " 'put',\n",
       " 'grown-up',\n",
       " 'toothpaste',\n",
       " 'on',\n",
       " 'my',\n",
       " 'toddler',\n",
       " '’',\n",
       " 's',\n",
       " 'toothbrush',\n",
       " 'and',\n",
       " 'he',\n",
       " 'screamed',\n",
       " 'like',\n",
       " 'I',\n",
       " 'was',\n",
       " 'cleaning',\n",
       " 'his',\n",
       " 'teeth',\n",
       " 'with',\n",
       " 'a',\n",
       " 'Carolina',\n",
       " 'Reaper',\n",
       " 'dipped',\n",
       " 'in',\n",
       " 'Tabasco',\n",
       " 'sauce',\n",
       " '.',\n",
       " \"''\"]"
      ]
     },
     "execution_count": 170,
     "metadata": {},
     "output_type": "execute_result"
    }
   ],
   "source": [
    "tokens = word_tokenize(raw, preserve_line=True)\n",
    "tokens"
   ]
  },
  {
   "cell_type": "markdown",
   "metadata": {},
   "source": [
    "### Minúsculo"
   ]
  },
  {
   "cell_type": "code",
   "execution_count": 171,
   "metadata": {},
   "outputs": [
    {
     "data": {
      "text/plain": [
       "['``',\n",
       " 'accidentally',\n",
       " 'put',\n",
       " 'grown-up',\n",
       " 'toothpaste',\n",
       " 'on',\n",
       " 'my',\n",
       " 'toddler',\n",
       " '’',\n",
       " 's',\n",
       " 'toothbrush',\n",
       " 'and',\n",
       " 'he',\n",
       " 'screamed',\n",
       " 'like',\n",
       " 'i',\n",
       " 'was',\n",
       " 'cleaning',\n",
       " 'his',\n",
       " 'teeth',\n",
       " 'with',\n",
       " 'a',\n",
       " 'carolina',\n",
       " 'reaper',\n",
       " 'dipped',\n",
       " 'in',\n",
       " 'tabasco',\n",
       " 'sauce',\n",
       " '.',\n",
       " \"''\"]"
      ]
     },
     "execution_count": 171,
     "metadata": {},
     "output_type": "execute_result"
    }
   ],
   "source": [
    "lowered_tokens = [token.lower() for token in tokens]\n",
    "lowered_tokens"
   ]
  },
  {
   "cell_type": "markdown",
   "metadata": {},
   "source": [
    "## Remoção de números e sinais de pontuação"
   ]
  },
  {
   "cell_type": "code",
   "execution_count": 172,
   "metadata": {},
   "outputs": [
    {
     "data": {
      "text/plain": [
       "['accidentally',\n",
       " 'put',\n",
       " 'toothpaste',\n",
       " 'on',\n",
       " 'my',\n",
       " 'toddler',\n",
       " 's',\n",
       " 'toothbrush',\n",
       " 'and',\n",
       " 'he',\n",
       " 'screamed',\n",
       " 'like',\n",
       " 'i',\n",
       " 'was',\n",
       " 'cleaning',\n",
       " 'his',\n",
       " 'teeth',\n",
       " 'with',\n",
       " 'a',\n",
       " 'carolina',\n",
       " 'reaper',\n",
       " 'dipped',\n",
       " 'in',\n",
       " 'tabasco',\n",
       " 'sauce']"
      ]
     },
     "execution_count": 172,
     "metadata": {},
     "output_type": "execute_result"
    }
   ],
   "source": [
    "words = [token for token in lowered_tokens if token.isalpha()]\n",
    "words"
   ]
  },
  {
   "cell_type": "markdown",
   "metadata": {},
   "source": [
    "## Remoção de Stopwords"
   ]
  },
  {
   "cell_type": "code",
   "execution_count": 173,
   "metadata": {},
   "outputs": [
    {
     "name": "stderr",
     "output_type": "stream",
     "text": [
      "[nltk_data] Downloading package stopwords to\n",
      "[nltk_data]     /Users/manoelsilva/nltk_data...\n",
      "[nltk_data]   Package stopwords is already up-to-date!\n"
     ]
    },
    {
     "data": {
      "text/plain": [
       "True"
      ]
     },
     "execution_count": 173,
     "metadata": {},
     "output_type": "execute_result"
    }
   ],
   "source": [
    "nltk.download('stopwords')"
   ]
  },
  {
   "cell_type": "code",
   "execution_count": 174,
   "metadata": {},
   "outputs": [
    {
     "data": {
      "text/plain": [
       "['i',\n",
       " 'me',\n",
       " 'my',\n",
       " 'myself',\n",
       " 'we',\n",
       " 'our',\n",
       " 'ours',\n",
       " 'ourselves',\n",
       " 'you',\n",
       " \"you're\",\n",
       " \"you've\",\n",
       " \"you'll\",\n",
       " \"you'd\",\n",
       " 'your',\n",
       " 'yours',\n",
       " 'yourself',\n",
       " 'yourselves',\n",
       " 'he',\n",
       " 'him',\n",
       " 'his',\n",
       " 'himself',\n",
       " 'she',\n",
       " \"she's\",\n",
       " 'her',\n",
       " 'hers',\n",
       " 'herself',\n",
       " 'it',\n",
       " \"it's\",\n",
       " 'its',\n",
       " 'itself',\n",
       " 'they',\n",
       " 'them',\n",
       " 'their',\n",
       " 'theirs',\n",
       " 'themselves',\n",
       " 'what',\n",
       " 'which',\n",
       " 'who',\n",
       " 'whom',\n",
       " 'this',\n",
       " 'that',\n",
       " \"that'll\",\n",
       " 'these',\n",
       " 'those',\n",
       " 'am',\n",
       " 'is',\n",
       " 'are',\n",
       " 'was',\n",
       " 'were',\n",
       " 'be',\n",
       " 'been',\n",
       " 'being',\n",
       " 'have',\n",
       " 'has',\n",
       " 'had',\n",
       " 'having',\n",
       " 'do',\n",
       " 'does',\n",
       " 'did',\n",
       " 'doing',\n",
       " 'a',\n",
       " 'an',\n",
       " 'the',\n",
       " 'and',\n",
       " 'but',\n",
       " 'if',\n",
       " 'or',\n",
       " 'because',\n",
       " 'as',\n",
       " 'until',\n",
       " 'while',\n",
       " 'of',\n",
       " 'at',\n",
       " 'by',\n",
       " 'for',\n",
       " 'with',\n",
       " 'about',\n",
       " 'against',\n",
       " 'between',\n",
       " 'into',\n",
       " 'through',\n",
       " 'during',\n",
       " 'before',\n",
       " 'after',\n",
       " 'above',\n",
       " 'below',\n",
       " 'to',\n",
       " 'from',\n",
       " 'up',\n",
       " 'down',\n",
       " 'in',\n",
       " 'out',\n",
       " 'on',\n",
       " 'off',\n",
       " 'over',\n",
       " 'under',\n",
       " 'again',\n",
       " 'further',\n",
       " 'then',\n",
       " 'once',\n",
       " 'here',\n",
       " 'there',\n",
       " 'when',\n",
       " 'where',\n",
       " 'why',\n",
       " 'how',\n",
       " 'all',\n",
       " 'any',\n",
       " 'both',\n",
       " 'each',\n",
       " 'few',\n",
       " 'more',\n",
       " 'most',\n",
       " 'other',\n",
       " 'some',\n",
       " 'such',\n",
       " 'no',\n",
       " 'nor',\n",
       " 'not',\n",
       " 'only',\n",
       " 'own',\n",
       " 'same',\n",
       " 'so',\n",
       " 'than',\n",
       " 'too',\n",
       " 'very',\n",
       " 's',\n",
       " 't',\n",
       " 'can',\n",
       " 'will',\n",
       " 'just',\n",
       " 'don',\n",
       " \"don't\",\n",
       " 'should',\n",
       " \"should've\",\n",
       " 'now',\n",
       " 'd',\n",
       " 'll',\n",
       " 'm',\n",
       " 'o',\n",
       " 're',\n",
       " 've',\n",
       " 'y',\n",
       " 'ain',\n",
       " 'aren',\n",
       " \"aren't\",\n",
       " 'couldn',\n",
       " \"couldn't\",\n",
       " 'didn',\n",
       " \"didn't\",\n",
       " 'doesn',\n",
       " \"doesn't\",\n",
       " 'hadn',\n",
       " \"hadn't\",\n",
       " 'hasn',\n",
       " \"hasn't\",\n",
       " 'haven',\n",
       " \"haven't\",\n",
       " 'isn',\n",
       " \"isn't\",\n",
       " 'ma',\n",
       " 'mightn',\n",
       " \"mightn't\",\n",
       " 'mustn',\n",
       " \"mustn't\",\n",
       " 'needn',\n",
       " \"needn't\",\n",
       " 'shan',\n",
       " \"shan't\",\n",
       " 'shouldn',\n",
       " \"shouldn't\",\n",
       " 'wasn',\n",
       " \"wasn't\",\n",
       " 'weren',\n",
       " \"weren't\",\n",
       " 'won',\n",
       " \"won't\",\n",
       " 'wouldn',\n",
       " \"wouldn't\"]"
      ]
     },
     "execution_count": 174,
     "metadata": {},
     "output_type": "execute_result"
    }
   ],
   "source": [
    "stopwords.words('english')"
   ]
  },
  {
   "cell_type": "code",
   "execution_count": 175,
   "metadata": {},
   "outputs": [
    {
     "data": {
      "text/plain": [
       "['accidentally',\n",
       " 'put',\n",
       " 'toothpaste',\n",
       " 'toddler',\n",
       " 'toothbrush',\n",
       " 'screamed',\n",
       " 'like',\n",
       " 'cleaning',\n",
       " 'teeth',\n",
       " 'carolina',\n",
       " 'reaper',\n",
       " 'dipped',\n",
       " 'tabasco',\n",
       " 'sauce']"
      ]
     },
     "execution_count": 175,
     "metadata": {},
     "output_type": "execute_result"
    }
   ],
   "source": [
    "no_stopwords_tokens = [word for word in words if word not in stopwords.words(\"english\")]\n",
    "no_stopwords_tokens"
   ]
  },
  {
   "cell_type": "markdown",
   "metadata": {},
   "source": [
    "## Lematização"
   ]
  },
  {
   "cell_type": "code",
   "execution_count": 176,
   "metadata": {},
   "outputs": [
    {
     "name": "stderr",
     "output_type": "stream",
     "text": [
      "[nltk_data] Downloading package wordnet to\n",
      "[nltk_data]     /Users/manoelsilva/nltk_data...\n",
      "[nltk_data]   Package wordnet is already up-to-date!\n"
     ]
    },
    {
     "data": {
      "text/plain": [
       "True"
      ]
     },
     "execution_count": 176,
     "metadata": {},
     "output_type": "execute_result"
    }
   ],
   "source": [
    "nltk.download('wordnet')"
   ]
  },
  {
   "cell_type": "code",
   "execution_count": 177,
   "metadata": {},
   "outputs": [
    {
     "data": {
      "text/plain": [
       "['``',\n",
       " 'Accidentally',\n",
       " 'put',\n",
       " 'grown-up',\n",
       " 'toothpaste',\n",
       " 'on',\n",
       " 'my',\n",
       " 'toddler',\n",
       " '’',\n",
       " 's',\n",
       " 'toothbrush',\n",
       " 'and',\n",
       " 'he',\n",
       " 'screamed',\n",
       " 'like',\n",
       " 'I',\n",
       " 'wa',\n",
       " 'cleaning',\n",
       " 'his',\n",
       " 'teeth',\n",
       " 'with',\n",
       " 'a',\n",
       " 'Carolina',\n",
       " 'Reaper',\n",
       " 'dipped',\n",
       " 'in',\n",
       " 'Tabasco',\n",
       " 'sauce',\n",
       " '.',\n",
       " \"''\"]"
      ]
     },
     "execution_count": 177,
     "metadata": {},
     "output_type": "execute_result"
    }
   ],
   "source": [
    "wnl = nltk.WordNetLemmatizer()\n",
    "\n",
    "lemmatized_tokens = [wnl.lemmatize(token) for token in tokens]\n",
    "lemmatized_tokens"
   ]
  },
  {
   "cell_type": "markdown",
   "metadata": {},
   "source": [
    "## Stemming"
   ]
  },
  {
   "cell_type": "code",
   "execution_count": 178,
   "metadata": {},
   "outputs": [
    {
     "data": {
      "text/plain": [
       "['``',\n",
       " 'accident',\n",
       " 'put',\n",
       " 'grown-up',\n",
       " 'toothpast',\n",
       " 'on',\n",
       " 'my',\n",
       " 'toddler',\n",
       " '’',\n",
       " 's',\n",
       " 'toothbrush',\n",
       " 'and',\n",
       " 'he',\n",
       " 'scream',\n",
       " 'like',\n",
       " 'i',\n",
       " 'wa',\n",
       " 'clean',\n",
       " 'hi',\n",
       " 'teeth',\n",
       " 'with',\n",
       " 'a',\n",
       " 'carolina',\n",
       " 'reaper',\n",
       " 'dip',\n",
       " 'in',\n",
       " 'tabasco',\n",
       " 'sauc',\n",
       " '.',\n",
       " \"''\"]"
      ]
     },
     "execution_count": 178,
     "metadata": {},
     "output_type": "execute_result"
    }
   ],
   "source": [
    "porter = nltk.PorterStemmer()\n",
    "\n",
    "steamed_tokens = [porter.stem(token) for token in tokens]\n",
    "steamed_tokens"
   ]
  },
  {
   "cell_type": "markdown",
   "metadata": {},
   "source": [
    "## Função de tratamento"
   ]
  },
  {
   "cell_type": "code",
   "execution_count": 179,
   "metadata": {},
   "outputs": [],
   "source": [
    "def tokenize_text(text):\n",
    "    # Tokenização\n",
    "    tokens = word_tokenize(text, preserve_line=True)\n",
    "\n",
    "    return tokens\n",
    "\n",
    "def lower_tokens(tokens):\n",
    "    # Conversão para minúsculas\n",
    "    tokens = [token.lower() for token in tokens]\n",
    "\n",
    "    return tokens\n",
    "\n",
    "def concatenate_tokens(tokens):\n",
    "    # Concatenando tokens separados por espaços\n",
    "    tokens_as_text = ' '.join(tokens)\n",
    "\n",
    "    return tokens_as_text\n",
    "\n",
    "def remove_not_words(tokens):\n",
    "    # Remoção de tokens que não são palavras (somente caracteres alfabéticos)\n",
    "    words = [token for token in tokens if token.isalpha()]\n",
    "\n",
    "    return words\n",
    "\n",
    "def remove_stop_words(tokens):\n",
    "    # Remoção de stop words\n",
    "    stop_words = set(stopwords.words('english'))\n",
    "    filtered_words = [token for token in tokens if token not in stop_words]\n",
    "\n",
    "    return filtered_words\n",
    "\n",
    "def lemmatize_tokens(tokens):\n",
    "    wnl = nltk.WordNetLemmatizer()\n",
    "\n",
    "    lemmatized_tokens = [wnl.lemmatize(token) for token in tokens]\n",
    "\n",
    "    return lemmatized_tokens\n",
    "\n",
    "def stemming_tokens(tokens):\n",
    "    # Stemming\n",
    "    porter = nltk.PorterStemmer()\n",
    "\n",
    "    steamed_tokens = []\n",
    "\n",
    "    for token in tokens:\n",
    "        steamed_token = porter.stem(token)\n",
    "\n",
    "        # Remoção de tokens com menos de 3 caracteres\n",
    "        if len(steamed_token) > 2:\n",
    "            steamed_tokens.append(steamed_token)\n",
    "\n",
    "    return steamed_tokens"
   ]
  },
  {
   "cell_type": "code",
   "execution_count": 180,
   "metadata": {},
   "outputs": [],
   "source": [
    "def process_text(text):\n",
    "    tokens = tokenize_text(text)\n",
    "    tokens = remove_not_words(tokens)\n",
    "    tokens = lower_tokens(tokens)\n",
    "    tokens = remove_stop_words(tokens)\n",
    "    tokens = stemming_tokens(tokens)\n",
    "\n",
    "    return concatenate_tokens(tokens)"
   ]
  },
  {
   "cell_type": "code",
   "execution_count": 181,
   "metadata": {},
   "outputs": [
    {
     "data": {
      "text/plain": [
       "'accident put toothpast toddler toothbrush scream like clean teeth carolina reaper dip tabasco sauc'"
      ]
     },
     "execution_count": 181,
     "metadata": {},
     "output_type": "execute_result"
    }
   ],
   "source": [
    "process_text(raw)"
   ]
  },
  {
   "cell_type": "markdown",
   "metadata": {},
   "source": [
    "## Metadados"
   ]
  },
  {
   "cell_type": "code",
   "execution_count": 182,
   "metadata": {},
   "outputs": [],
   "source": [
    "def count_words(all_text_tokens):\n",
    "    return sum(len(tokens) for tokens in all_text_tokens)\n",
    "\n",
    "def count_distinct_words(all_text_tokens):\n",
    "    distinct_tokens = set(token for tokens in all_text_tokens for token in tokens)\n",
    "\n",
    "    return len(distinct_tokens)"
   ]
  },
  {
   "cell_type": "markdown",
   "metadata": {},
   "source": [
    "## Tratamento de todos os documentos\n",
    "\n",
    "### Etapas\n",
    "\n",
    "1. Tokenização, remoção de números/pontuação e transformação para minúsculo\n",
    "2. Remoção de stopwords\n",
    "3. Aplicação do Stemming\n",
    "\n",
    "### Casos\n",
    "\n",
    "1. Título\n",
    "2. Resumo\n",
    "3. Título + Resumo"
   ]
  },
  {
   "cell_type": "code",
   "execution_count": 183,
   "metadata": {},
   "outputs": [],
   "source": [
    "def tokenize_all_texts(df, columns):\n",
    "    all_texts_tokens = []\n",
    "\n",
    "    for index, instance in df.iterrows():\n",
    "        instance_tokens = []\n",
    "\n",
    "        for column in columns:\n",
    "            text = instance[column]\n",
    "            tokens = tokenize_text(text)\n",
    "\n",
    "            tokens = remove_not_words(tokens)\n",
    "            tokens = lower_tokens(tokens)\n",
    "\n",
    "            instance_tokens = instance_tokens + tokens\n",
    "\n",
    "        all_texts_tokens.append(instance_tokens)\n",
    "    \n",
    "    return all_texts_tokens"
   ]
  },
  {
   "cell_type": "markdown",
   "metadata": {},
   "source": [
    "### Caso 1 (Título)"
   ]
  },
  {
   "cell_type": "markdown",
   "metadata": {},
   "source": [
    "#### Tokenização e filtragem de palavras"
   ]
  },
  {
   "cell_type": "code",
   "execution_count": 184,
   "metadata": {},
   "outputs": [
    {
     "name": "stdout",
     "output_type": "stream",
     "text": [
      "Total de palavras: 901493\n",
      "Total de palavras distintas: 37476\n"
     ]
    }
   ],
   "source": [
    "columns = ['headline']\n",
    "\n",
    "all_texts_tokens_1 = tokenize_all_texts(df, columns)\n",
    "\n",
    "total_words = count_words(all_texts_tokens_1)\n",
    "distinct_words = count_distinct_words(all_texts_tokens_1)\n",
    "\n",
    "print(f'Total de palavras: {total_words}')\n",
    "print(f'Total de palavras distintas: {distinct_words}')"
   ]
  },
  {
   "cell_type": "markdown",
   "metadata": {},
   "source": [
    "#### Remoção de stopwords"
   ]
  },
  {
   "cell_type": "code",
   "execution_count": 185,
   "metadata": {},
   "outputs": [
    {
     "name": "stdout",
     "output_type": "stream",
     "text": [
      "Total de palavras: 622598\n",
      "Total de palavras distintas: 37328\n"
     ]
    }
   ],
   "source": [
    "for i in range(len(all_texts_tokens_1)):\n",
    "    all_texts_tokens_1[i] = remove_stop_words(all_texts_tokens_1[i])\n",
    "\n",
    "total_words = count_words(all_texts_tokens_1)\n",
    "distinct_words = count_distinct_words(all_texts_tokens_1)\n",
    "\n",
    "print(f'Total de palavras: {total_words}')\n",
    "print(f'Total de palavras distintas: {distinct_words}')"
   ]
  },
  {
   "cell_type": "markdown",
   "metadata": {},
   "source": [
    "#### Stemming"
   ]
  },
  {
   "cell_type": "code",
   "execution_count": 186,
   "metadata": {},
   "outputs": [
    {
     "name": "stdout",
     "output_type": "stream",
     "text": [
      "Total de palavras: 615117\n",
      "Total de palavras distintas: 25649\n"
     ]
    }
   ],
   "source": [
    "for i in range(len(all_texts_tokens_1)):\n",
    "    all_texts_tokens_1[i] = stemming_tokens(all_texts_tokens_1[i])\n",
    "\n",
    "total_words = count_words(all_texts_tokens_1)\n",
    "distinct_words = count_distinct_words(all_texts_tokens_1)\n",
    "\n",
    "print(f'Total de palavras: {total_words}')\n",
    "print(f'Total de palavras distintas: {distinct_words}')"
   ]
  },
  {
   "cell_type": "markdown",
   "metadata": {},
   "source": [
    "### Caso 2 (Resumo)"
   ]
  },
  {
   "cell_type": "markdown",
   "metadata": {},
   "source": [
    "#### Tokenização e filtragem de palavras"
   ]
  },
  {
   "cell_type": "code",
   "execution_count": 187,
   "metadata": {},
   "outputs": [
    {
     "name": "stdout",
     "output_type": "stream",
     "text": [
      "Total de palavras: 2100826\n",
      "Total de palavras distintas: 51731\n"
     ]
    }
   ],
   "source": [
    "columns = ['short_description']\n",
    "all_texts_tokens_2 = tokenize_all_texts(df, columns)\n",
    "\n",
    "total_words = count_words(all_texts_tokens_2)\n",
    "distinct_words = count_distinct_words(all_texts_tokens_2)\n",
    "\n",
    "print(f'Total de palavras: {total_words}')\n",
    "print(f'Total de palavras distintas: {distinct_words}')"
   ]
  },
  {
   "cell_type": "markdown",
   "metadata": {},
   "source": [
    "#### Remoção de stopwords"
   ]
  },
  {
   "cell_type": "code",
   "execution_count": 188,
   "metadata": {},
   "outputs": [
    {
     "name": "stdout",
     "output_type": "stream",
     "text": [
      "Total de palavras: 1115789\n",
      "Total de palavras distintas: 51581\n"
     ]
    }
   ],
   "source": [
    "for i in range(len(all_texts_tokens_2)):\n",
    "    all_texts_tokens_2[i] = remove_stop_words(all_texts_tokens_2[i])\n",
    "\n",
    "total_words = count_words(all_texts_tokens_2)\n",
    "distinct_words = count_distinct_words(all_texts_tokens_2)\n",
    "\n",
    "print(f'Total de palavras: {total_words}')\n",
    "print(f'Total de palavras distintas: {distinct_words}')"
   ]
  },
  {
   "cell_type": "markdown",
   "metadata": {},
   "source": [
    "#### Stemming"
   ]
  },
  {
   "cell_type": "code",
   "execution_count": 189,
   "metadata": {},
   "outputs": [
    {
     "name": "stdout",
     "output_type": "stream",
     "text": [
      "Total de palavras: 1100465\n",
      "Total de palavras distintas: 34224\n"
     ]
    }
   ],
   "source": [
    "for i in range(len(all_texts_tokens_2)):\n",
    "    all_texts_tokens_2[i] = stemming_tokens(all_texts_tokens_2[i])\n",
    "\n",
    "total_words = count_words(all_texts_tokens_2)\n",
    "distinct_words = count_distinct_words(all_texts_tokens_2)\n",
    "\n",
    "print(f'Total de palavras: {total_words}')\n",
    "print(f'Total de palavras distintas: {distinct_words}')"
   ]
  },
  {
   "cell_type": "markdown",
   "metadata": {},
   "source": [
    "### Caso 3 (Título + Resumo)"
   ]
  },
  {
   "cell_type": "markdown",
   "metadata": {},
   "source": [
    "#### Tokenização e filtragem de palavras"
   ]
  },
  {
   "cell_type": "code",
   "execution_count": 190,
   "metadata": {},
   "outputs": [
    {
     "name": "stdout",
     "output_type": "stream",
     "text": [
      "Total de palavras: 3002319\n",
      "Total de palavras distintas: 59467\n"
     ]
    }
   ],
   "source": [
    "columns = ['short_description', 'headline']\n",
    "all_texts_tokens_3 = tokenize_all_texts(df, columns)\n",
    "\n",
    "total_words = count_words(all_texts_tokens_3)\n",
    "distinct_words = count_distinct_words(all_texts_tokens_3)\n",
    "\n",
    "print(f'Total de palavras: {total_words}')\n",
    "print(f'Total de palavras distintas: {distinct_words}')"
   ]
  },
  {
   "cell_type": "markdown",
   "metadata": {},
   "source": [
    "#### Remoção de stopwords"
   ]
  },
  {
   "cell_type": "code",
   "execution_count": 191,
   "metadata": {},
   "outputs": [
    {
     "name": "stdout",
     "output_type": "stream",
     "text": [
      "Total de palavras: 1738387\n",
      "Total de palavras distintas: 59317\n"
     ]
    }
   ],
   "source": [
    "for i in range(len(all_texts_tokens_3)):\n",
    "    all_texts_tokens_3[i] = remove_stop_words(all_texts_tokens_3[i])\n",
    "\n",
    "total_words = count_words(all_texts_tokens_3)\n",
    "distinct_words = count_distinct_words(all_texts_tokens_3)\n",
    "\n",
    "print(f'Total de palavras: {total_words}')\n",
    "print(f'Total de palavras distintas: {distinct_words}')"
   ]
  },
  {
   "cell_type": "markdown",
   "metadata": {},
   "source": [
    "#### Stemming"
   ]
  },
  {
   "cell_type": "code",
   "execution_count": 192,
   "metadata": {},
   "outputs": [
    {
     "name": "stdout",
     "output_type": "stream",
     "text": [
      "Total de palavras: 1715582\n",
      "Total de palavras distintas: 39590\n"
     ]
    }
   ],
   "source": [
    "for i in range(len(all_texts_tokens_3)):\n",
    "    all_texts_tokens_3[i] = stemming_tokens(all_texts_tokens_3[i])\n",
    "\n",
    "total_words = count_words(all_texts_tokens_3)\n",
    "distinct_words = count_distinct_words(all_texts_tokens_3)\n",
    "\n",
    "print(f'Total de palavras: {total_words}')\n",
    "print(f'Total de palavras distintas: {distinct_words}')"
   ]
  },
  {
   "cell_type": "markdown",
   "metadata": {},
   "source": [
    "### Concatenar todos os tokens"
   ]
  },
  {
   "cell_type": "code",
   "execution_count": 193,
   "metadata": {},
   "outputs": [],
   "source": [
    "all_texts_tokens_1 = [concatenate_tokens(tokens) for tokens in all_texts_tokens_1]\n",
    "all_texts_tokens_2 = [concatenate_tokens(tokens) for tokens in all_texts_tokens_2]\n",
    "all_texts_tokens_3 = [concatenate_tokens(tokens) for tokens in all_texts_tokens_3]"
   ]
  },
  {
   "cell_type": "markdown",
   "metadata": {},
   "source": [
    "### Armazenamento de todos os tokens"
   ]
  },
  {
   "cell_type": "code",
   "execution_count": 194,
   "metadata": {},
   "outputs": [],
   "source": [
    "df_tokens = pd.DataFrame({\n",
    "    'headline': all_texts_tokens_1,\n",
    "    'short_description': all_texts_tokens_2,\n",
    "    'mix': all_texts_tokens_3,\n",
    "    'category': df['category']})\n",
    "\n",
    "df_tokens.to_csv('news_tokens.csv', index=False)"
   ]
  },
  {
   "cell_type": "markdown",
   "metadata": {},
   "source": [
    "# Vetorização dos documentos"
   ]
  },
  {
   "cell_type": "markdown",
   "metadata": {},
   "source": [
    "## Seleção de instâncias"
   ]
  },
  {
   "cell_type": "markdown",
   "metadata": {},
   "source": [
    "## Por frequência"
   ]
  },
  {
   "cell_type": "code",
   "execution_count": 202,
   "metadata": {},
   "outputs": [
    {
     "name": "stdout",
     "output_type": "stream",
     "text": [
      "(99285, 25649)\n",
      "(99285, 34224)\n",
      "(99285, 39590)\n"
     ]
    }
   ],
   "source": [
    "frequency_vectorizer = CountVectorizer()\n",
    "\n",
    "frequency_vecs_1 = frequency_vectorizer.fit_transform(all_texts_tokens_1)\n",
    "frequency_vecs_2 = frequency_vectorizer.fit_transform(all_texts_tokens_2)\n",
    "frequency_vecs_3 = frequency_vectorizer.fit_transform(all_texts_tokens_3)\n",
    "\n",
    "print(frequency_vecs_1.shape)\n",
    "print(frequency_vecs_2.shape)\n",
    "print(frequency_vecs_3.shape)"
   ]
  },
  {
   "cell_type": "markdown",
   "metadata": {},
   "source": [
    "### Armazenando com numpy"
   ]
  },
  {
   "cell_type": "code",
   "execution_count": 203,
   "metadata": {},
   "outputs": [],
   "source": [
    "np.savez_compressed('frequency_vectors.npz', \n",
    "        headline=frequency_vecs_1, \n",
    "        short_description=frequency_vecs_2, \n",
    "        mix=frequency_vecs_3, \n",
    "        category=df['category'])"
   ]
  },
  {
   "cell_type": "markdown",
   "metadata": {},
   "source": [
    "## Por frequência inversa"
   ]
  },
  {
   "cell_type": "code",
   "execution_count": 204,
   "metadata": {},
   "outputs": [
    {
     "name": "stdout",
     "output_type": "stream",
     "text": [
      "(99285, 25649)\n",
      "(99285, 34224)\n",
      "(99285, 39590)\n"
     ]
    }
   ],
   "source": [
    "inverse_frequency_vectorizer = TfidfVectorizer()\n",
    "\n",
    "inverse_frequency_vecs_1 = inverse_frequency_vectorizer.fit_transform(all_texts_tokens_1)\n",
    "inverse_frequency_vecs_2 = inverse_frequency_vectorizer.fit_transform(all_texts_tokens_2)\n",
    "inverse_frequency_vecs_3 = inverse_frequency_vectorizer.fit_transform(all_texts_tokens_3)\n",
    "\n",
    "print(inverse_frequency_vecs_1.shape)\n",
    "print(inverse_frequency_vecs_2.shape)\n",
    "print(inverse_frequency_vecs_3.shape)"
   ]
  },
  {
   "cell_type": "markdown",
   "metadata": {},
   "source": [
    "### Armazenando com numpy"
   ]
  },
  {
   "cell_type": "code",
   "execution_count": 205,
   "metadata": {},
   "outputs": [],
   "source": [
    "np.savez_compressed('inverse_frequency_vectors.npz',\n",
    "        headline=inverse_frequency_vecs_1, \n",
    "        short_description=inverse_frequency_vecs_2, \n",
    "        mix=inverse_frequency_vecs_3, \n",
    "        category=df['category'])"
   ]
  }
 ],
 "metadata": {
  "kernelspec": {
   "display_name": "Python 3",
   "language": "python",
   "name": "python3"
  },
  "language_info": {
   "codemirror_mode": {
    "name": "ipython",
    "version": 3
   },
   "file_extension": ".py",
   "mimetype": "text/x-python",
   "name": "python",
   "nbconvert_exporter": "python",
   "pygments_lexer": "ipython3",
   "version": "3.11.5"
  }
 },
 "nbformat": 4,
 "nbformat_minor": 2
}

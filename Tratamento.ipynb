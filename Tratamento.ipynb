{
 "cells": [
  {
   "cell_type": "markdown",
   "metadata": {},
   "source": [
    "# Imports"
   ]
  },
  {
   "cell_type": "code",
   "execution_count": 67,
   "metadata": {},
   "outputs": [],
   "source": [
    "import pandas as pd\n",
    "import matplotlib.pyplot as plt\n",
    "import numpy as np\n",
    "import re\n",
    "\n",
    "import nltk\n",
    "from nltk.corpus import stopwords\n",
    "from nltk.tokenize import word_tokenize\n",
    "\n",
    "from sklearn.feature_extraction.text import CountVectorizer\n",
    "from sklearn.feature_extraction.text import TfidfVectorizer"
   ]
  },
  {
   "cell_type": "markdown",
   "metadata": {},
   "source": [
    "# Leitura dos dados"
   ]
  },
  {
   "cell_type": "code",
   "execution_count": 68,
   "metadata": {},
   "outputs": [
    {
     "data": {
      "text/html": [
       "<div>\n",
       "<style scoped>\n",
       "    .dataframe tbody tr th:only-of-type {\n",
       "        vertical-align: middle;\n",
       "    }\n",
       "\n",
       "    .dataframe tbody tr th {\n",
       "        vertical-align: top;\n",
       "    }\n",
       "\n",
       "    .dataframe thead th {\n",
       "        text-align: right;\n",
       "    }\n",
       "</style>\n",
       "<table border=\"1\" class=\"dataframe\">\n",
       "  <thead>\n",
       "    <tr style=\"text-align: right;\">\n",
       "      <th></th>\n",
       "      <th>link</th>\n",
       "      <th>headline</th>\n",
       "      <th>category</th>\n",
       "      <th>short_description</th>\n",
       "      <th>authors</th>\n",
       "      <th>date</th>\n",
       "    </tr>\n",
       "  </thead>\n",
       "  <tbody>\n",
       "    <tr>\n",
       "      <th>0</th>\n",
       "      <td>https://www.huffpost.com/entry/covid-boosters-...</td>\n",
       "      <td>Over 4 Million Americans Roll Up Sleeves For O...</td>\n",
       "      <td>U.S. NEWS</td>\n",
       "      <td>Health experts said it is too early to predict...</td>\n",
       "      <td>Carla K. Johnson, AP</td>\n",
       "      <td>2022-09-23</td>\n",
       "    </tr>\n",
       "    <tr>\n",
       "      <th>1</th>\n",
       "      <td>https://www.huffpost.com/entry/american-airlin...</td>\n",
       "      <td>American Airlines Flyer Charged, Banned For Li...</td>\n",
       "      <td>U.S. NEWS</td>\n",
       "      <td>He was subdued by passengers and crew when he ...</td>\n",
       "      <td>Mary Papenfuss</td>\n",
       "      <td>2022-09-23</td>\n",
       "    </tr>\n",
       "    <tr>\n",
       "      <th>2</th>\n",
       "      <td>https://www.huffpost.com/entry/funniest-tweets...</td>\n",
       "      <td>23 Of The Funniest Tweets About Cats And Dogs ...</td>\n",
       "      <td>COMEDY</td>\n",
       "      <td>\"Until you have a dog you don't understand wha...</td>\n",
       "      <td>Elyse Wanshel</td>\n",
       "      <td>2022-09-23</td>\n",
       "    </tr>\n",
       "    <tr>\n",
       "      <th>3</th>\n",
       "      <td>https://www.huffpost.com/entry/funniest-parent...</td>\n",
       "      <td>The Funniest Tweets From Parents This Week (Se...</td>\n",
       "      <td>PARENTING</td>\n",
       "      <td>\"Accidentally put grown-up toothpaste on my to...</td>\n",
       "      <td>Caroline Bologna</td>\n",
       "      <td>2022-09-23</td>\n",
       "    </tr>\n",
       "    <tr>\n",
       "      <th>4</th>\n",
       "      <td>https://www.huffpost.com/entry/amy-cooper-lose...</td>\n",
       "      <td>Woman Who Called Cops On Black Bird-Watcher Lo...</td>\n",
       "      <td>U.S. NEWS</td>\n",
       "      <td>Amy Cooper accused investment firm Franklin Te...</td>\n",
       "      <td>Nina Golgowski</td>\n",
       "      <td>2022-09-22</td>\n",
       "    </tr>\n",
       "  </tbody>\n",
       "</table>\n",
       "</div>"
      ],
      "text/plain": [
       "                                                link   \n",
       "0  https://www.huffpost.com/entry/covid-boosters-...  \\\n",
       "1  https://www.huffpost.com/entry/american-airlin...   \n",
       "2  https://www.huffpost.com/entry/funniest-tweets...   \n",
       "3  https://www.huffpost.com/entry/funniest-parent...   \n",
       "4  https://www.huffpost.com/entry/amy-cooper-lose...   \n",
       "\n",
       "                                            headline   category   \n",
       "0  Over 4 Million Americans Roll Up Sleeves For O...  U.S. NEWS  \\\n",
       "1  American Airlines Flyer Charged, Banned For Li...  U.S. NEWS   \n",
       "2  23 Of The Funniest Tweets About Cats And Dogs ...     COMEDY   \n",
       "3  The Funniest Tweets From Parents This Week (Se...  PARENTING   \n",
       "4  Woman Who Called Cops On Black Bird-Watcher Lo...  U.S. NEWS   \n",
       "\n",
       "                                   short_description               authors   \n",
       "0  Health experts said it is too early to predict...  Carla K. Johnson, AP  \\\n",
       "1  He was subdued by passengers and crew when he ...        Mary Papenfuss   \n",
       "2  \"Until you have a dog you don't understand wha...         Elyse Wanshel   \n",
       "3  \"Accidentally put grown-up toothpaste on my to...      Caroline Bologna   \n",
       "4  Amy Cooper accused investment firm Franklin Te...        Nina Golgowski   \n",
       "\n",
       "        date  \n",
       "0 2022-09-23  \n",
       "1 2022-09-23  \n",
       "2 2022-09-23  \n",
       "3 2022-09-23  \n",
       "4 2022-09-22  "
      ]
     },
     "execution_count": 68,
     "metadata": {},
     "output_type": "execute_result"
    }
   ],
   "source": [
    "df = pd.read_json('news.json', lines=True)\n",
    "\n",
    "df.head()"
   ]
  },
  {
   "cell_type": "code",
   "execution_count": 69,
   "metadata": {},
   "outputs": [
    {
     "data": {
      "text/plain": [
       "link                 209527\n",
       "headline             209527\n",
       "category             209527\n",
       "short_description    209527\n",
       "authors              209527\n",
       "date                 209527\n",
       "dtype: int64"
      ]
     },
     "execution_count": 69,
     "metadata": {},
     "output_type": "execute_result"
    }
   ],
   "source": [
    "df.count()"
   ]
  },
  {
   "cell_type": "code",
   "execution_count": 70,
   "metadata": {},
   "outputs": [
    {
     "data": {
      "text/plain": [
       "link                         object\n",
       "headline                     object\n",
       "category                     object\n",
       "short_description            object\n",
       "authors                      object\n",
       "date                 datetime64[ns]\n",
       "dtype: object"
      ]
     },
     "execution_count": 70,
     "metadata": {},
     "output_type": "execute_result"
    }
   ],
   "source": [
    "df.dtypes"
   ]
  },
  {
   "cell_type": "code",
   "execution_count": 71,
   "metadata": {},
   "outputs": [
    {
     "data": {
      "text/plain": [
       "42"
      ]
     },
     "execution_count": 71,
     "metadata": {},
     "output_type": "execute_result"
    }
   ],
   "source": [
    "categories_list = df['category'].unique()\n",
    "\n",
    "len(categories_list)"
   ]
  },
  {
   "cell_type": "code",
   "execution_count": 72,
   "metadata": {},
   "outputs": [
    {
     "data": {
      "text/plain": [
       "array(['U.S. NEWS', 'COMEDY', 'PARENTING', 'WORLD NEWS', 'CULTURE & ARTS',\n",
       "       'TECH', 'SPORTS', 'ENTERTAINMENT', 'POLITICS', 'WEIRD NEWS',\n",
       "       'ENVIRONMENT', 'EDUCATION', 'CRIME', 'SCIENCE', 'WELLNESS',\n",
       "       'BUSINESS', 'STYLE & BEAUTY', 'FOOD & DRINK', 'MEDIA',\n",
       "       'QUEER VOICES', 'HOME & LIVING', 'WOMEN', 'BLACK VOICES', 'TRAVEL',\n",
       "       'MONEY', 'RELIGION', 'LATINO VOICES', 'IMPACT', 'WEDDINGS',\n",
       "       'COLLEGE', 'PARENTS', 'ARTS & CULTURE', 'STYLE', 'GREEN', 'TASTE',\n",
       "       'HEALTHY LIVING', 'THE WORLDPOST', 'GOOD NEWS', 'WORLDPOST',\n",
       "       'FIFTY', 'ARTS', 'DIVORCE'], dtype=object)"
      ]
     },
     "execution_count": 72,
     "metadata": {},
     "output_type": "execute_result"
    }
   ],
   "source": [
    "categories_list"
   ]
  },
  {
   "cell_type": "markdown",
   "metadata": {},
   "source": [
    "# Tratamento da base de dados"
   ]
  },
  {
   "cell_type": "markdown",
   "metadata": {},
   "source": [
    "## Remoção de duplicatas"
   ]
  },
  {
   "cell_type": "code",
   "execution_count": 73,
   "metadata": {},
   "outputs": [
    {
     "data": {
      "text/html": [
       "<div>\n",
       "<style scoped>\n",
       "    .dataframe tbody tr th:only-of-type {\n",
       "        vertical-align: middle;\n",
       "    }\n",
       "\n",
       "    .dataframe tbody tr th {\n",
       "        vertical-align: top;\n",
       "    }\n",
       "\n",
       "    .dataframe thead th {\n",
       "        text-align: right;\n",
       "    }\n",
       "</style>\n",
       "<table border=\"1\" class=\"dataframe\">\n",
       "  <thead>\n",
       "    <tr style=\"text-align: right;\">\n",
       "      <th></th>\n",
       "      <th>link</th>\n",
       "      <th>headline</th>\n",
       "      <th>category</th>\n",
       "      <th>short_description</th>\n",
       "      <th>authors</th>\n",
       "      <th>date</th>\n",
       "    </tr>\n",
       "  </thead>\n",
       "  <tbody>\n",
       "    <tr>\n",
       "      <th>67677</th>\n",
       "      <td>https://www.huffingtonpost.comhttp://www.mothe...</td>\n",
       "      <td>On Facebook, Trump's Longtime Butler Calls For...</td>\n",
       "      <td>POLITICS</td>\n",
       "      <td>Anthony Senecal, who worked as Donald Trump's ...</td>\n",
       "      <td></td>\n",
       "      <td>2016-05-12</td>\n",
       "    </tr>\n",
       "    <tr>\n",
       "      <th>67923</th>\n",
       "      <td>https://www.huffingtonpost.comhttp://gizmodo.c...</td>\n",
       "      <td>Former Facebook Workers: We Routinely Suppress...</td>\n",
       "      <td>TECH</td>\n",
       "      <td>Facebook workers routinely suppressed news sto...</td>\n",
       "      <td></td>\n",
       "      <td>2016-05-09</td>\n",
       "    </tr>\n",
       "    <tr>\n",
       "      <th>70239</th>\n",
       "      <td>https://www.huffingtonpost.comhttp://www.cnbc....</td>\n",
       "      <td>On Equal Pay Day, The Gap Is Still Too Wide</td>\n",
       "      <td>WOMEN</td>\n",
       "      <td>Equal Pay Day falls on April 12 in 2016. It's ...</td>\n",
       "      <td></td>\n",
       "      <td>2016-04-12</td>\n",
       "    </tr>\n",
       "    <tr>\n",
       "      <th>139830</th>\n",
       "      <td>https://www.huffingtonpost.comhttp://www.cnn.c...</td>\n",
       "      <td>The World's Most Dangerous Workout?</td>\n",
       "      <td>WELLNESS</td>\n",
       "      <td>Is the \"sport of fitness\" the world's most dan...</td>\n",
       "      <td></td>\n",
       "      <td>2014-02-10</td>\n",
       "    </tr>\n",
       "    <tr>\n",
       "      <th>144409</th>\n",
       "      <td>https://www.huffingtonpost.comhttp://www.upwor...</td>\n",
       "      <td>Some People Call It 'The Best Anti-Smoking Ad ...</td>\n",
       "      <td>WELLNESS</td>\n",
       "      <td>Almost all smokers know cigarettes are bad for...</td>\n",
       "      <td></td>\n",
       "      <td>2013-12-22</td>\n",
       "    </tr>\n",
       "    <tr>\n",
       "      <th>145142</th>\n",
       "      <td>https://www.huffingtonpost.comhttp://www.weath...</td>\n",
       "      <td>10 Cities That Could Run Out Of Water - Weathe...</td>\n",
       "      <td>ENVIRONMENT</td>\n",
       "      <td>Securing access to plentiful, renewable source...</td>\n",
       "      <td></td>\n",
       "      <td>2013-12-15</td>\n",
       "    </tr>\n",
       "    <tr>\n",
       "      <th>178155</th>\n",
       "      <td>https://www.huffingtonpost.comhttp://www.busin...</td>\n",
       "      <td>Google Is Attacking Apple From The Inside Out ...</td>\n",
       "      <td>TECH</td>\n",
       "      <td>After years of hammering away at Apple's share...</td>\n",
       "      <td></td>\n",
       "      <td>2013-01-01</td>\n",
       "    </tr>\n",
       "    <tr>\n",
       "      <th>187329</th>\n",
       "      <td>https://www.huffingtonpost.comhttp://www.nytim...</td>\n",
       "      <td>Eating For Health, Not Weight</td>\n",
       "      <td>WELLNESS</td>\n",
       "      <td>Almost half of Americans are on a diet -- not ...</td>\n",
       "      <td></td>\n",
       "      <td>2012-09-23</td>\n",
       "    </tr>\n",
       "    <tr>\n",
       "      <th>194596</th>\n",
       "      <td>https://www.huffingtonpost.comhttp://blogs.wsj...</td>\n",
       "      <td>Apple Removes Green EPEAT Electronics Certific...</td>\n",
       "      <td>TECH</td>\n",
       "      <td>Apple has pulled its products off the U.S. gov...</td>\n",
       "      <td></td>\n",
       "      <td>2012-07-07</td>\n",
       "    </tr>\n",
       "    <tr>\n",
       "      <th>194598</th>\n",
       "      <td>https://www.huffingtonpost.comhttp://www.theda...</td>\n",
       "      <td>Microsoft's $6.2 Billion Writedown Shows It's ...</td>\n",
       "      <td>TECH</td>\n",
       "      <td>Fighting for online advertising dominance with...</td>\n",
       "      <td></td>\n",
       "      <td>2012-07-07</td>\n",
       "    </tr>\n",
       "    <tr>\n",
       "      <th>207122</th>\n",
       "      <td>https://www.huffingtonpost.comhttp://d.repubbl...</td>\n",
       "      <td>Versace Atelier Worker Reflects On The Glory &amp;...</td>\n",
       "      <td>STYLE &amp; BEAUTY</td>\n",
       "      <td>Twenty-four hours before the fashion show, Don...</td>\n",
       "      <td></td>\n",
       "      <td>2012-02-23</td>\n",
       "    </tr>\n",
       "    <tr>\n",
       "      <th>207208</th>\n",
       "      <td>https://www.huffingtonpost.comhttp://d.repubbl...</td>\n",
       "      <td>Behind-The-Scenes Look At Prada's Workshop (VI...</td>\n",
       "      <td>STYLE &amp; BEAUTY</td>\n",
       "      <td>Exclusive worldwide and for the first time in ...</td>\n",
       "      <td></td>\n",
       "      <td>2012-02-22</td>\n",
       "    </tr>\n",
       "    <tr>\n",
       "      <th>207318</th>\n",
       "      <td>https://www.huffingtonpost.comhttp://d.repubbl...</td>\n",
       "      <td>Gucci's Frida Giannini Reveals Fashion Week Di...</td>\n",
       "      <td>STYLE &amp; BEAUTY</td>\n",
       "      <td>Frida Giannini reveals in this worldwide exclu...</td>\n",
       "      <td></td>\n",
       "      <td>2012-02-21</td>\n",
       "    </tr>\n",
       "  </tbody>\n",
       "</table>\n",
       "</div>"
      ],
      "text/plain": [
       "                                                     link   \n",
       "67677   https://www.huffingtonpost.comhttp://www.mothe...  \\\n",
       "67923   https://www.huffingtonpost.comhttp://gizmodo.c...   \n",
       "70239   https://www.huffingtonpost.comhttp://www.cnbc....   \n",
       "139830  https://www.huffingtonpost.comhttp://www.cnn.c...   \n",
       "144409  https://www.huffingtonpost.comhttp://www.upwor...   \n",
       "145142  https://www.huffingtonpost.comhttp://www.weath...   \n",
       "178155  https://www.huffingtonpost.comhttp://www.busin...   \n",
       "187329  https://www.huffingtonpost.comhttp://www.nytim...   \n",
       "194596  https://www.huffingtonpost.comhttp://blogs.wsj...   \n",
       "194598  https://www.huffingtonpost.comhttp://www.theda...   \n",
       "207122  https://www.huffingtonpost.comhttp://d.repubbl...   \n",
       "207208  https://www.huffingtonpost.comhttp://d.repubbl...   \n",
       "207318  https://www.huffingtonpost.comhttp://d.repubbl...   \n",
       "\n",
       "                                                 headline        category   \n",
       "67677   On Facebook, Trump's Longtime Butler Calls For...        POLITICS  \\\n",
       "67923   Former Facebook Workers: We Routinely Suppress...            TECH   \n",
       "70239         On Equal Pay Day, The Gap Is Still Too Wide           WOMEN   \n",
       "139830                The World's Most Dangerous Workout?        WELLNESS   \n",
       "144409  Some People Call It 'The Best Anti-Smoking Ad ...        WELLNESS   \n",
       "145142  10 Cities That Could Run Out Of Water - Weathe...     ENVIRONMENT   \n",
       "178155  Google Is Attacking Apple From The Inside Out ...            TECH   \n",
       "187329                      Eating For Health, Not Weight        WELLNESS   \n",
       "194596  Apple Removes Green EPEAT Electronics Certific...            TECH   \n",
       "194598  Microsoft's $6.2 Billion Writedown Shows It's ...            TECH   \n",
       "207122  Versace Atelier Worker Reflects On The Glory &...  STYLE & BEAUTY   \n",
       "207208  Behind-The-Scenes Look At Prada's Workshop (VI...  STYLE & BEAUTY   \n",
       "207318  Gucci's Frida Giannini Reveals Fashion Week Di...  STYLE & BEAUTY   \n",
       "\n",
       "                                        short_description authors       date  \n",
       "67677   Anthony Senecal, who worked as Donald Trump's ...         2016-05-12  \n",
       "67923   Facebook workers routinely suppressed news sto...         2016-05-09  \n",
       "70239   Equal Pay Day falls on April 12 in 2016. It's ...         2016-04-12  \n",
       "139830  Is the \"sport of fitness\" the world's most dan...         2014-02-10  \n",
       "144409  Almost all smokers know cigarettes are bad for...         2013-12-22  \n",
       "145142  Securing access to plentiful, renewable source...         2013-12-15  \n",
       "178155  After years of hammering away at Apple's share...         2013-01-01  \n",
       "187329  Almost half of Americans are on a diet -- not ...         2012-09-23  \n",
       "194596  Apple has pulled its products off the U.S. gov...         2012-07-07  \n",
       "194598  Fighting for online advertising dominance with...         2012-07-07  \n",
       "207122  Twenty-four hours before the fashion show, Don...         2012-02-23  \n",
       "207208  Exclusive worldwide and for the first time in ...         2012-02-22  \n",
       "207318  Frida Giannini reveals in this worldwide exclu...         2012-02-21  "
      ]
     },
     "execution_count": 73,
     "metadata": {},
     "output_type": "execute_result"
    }
   ],
   "source": [
    "duplicate_rows = df[df.duplicated()]\n",
    "duplicate_rows"
   ]
  },
  {
   "cell_type": "code",
   "execution_count": 74,
   "metadata": {},
   "outputs": [],
   "source": [
    "df = df.drop_duplicates()"
   ]
  },
  {
   "cell_type": "code",
   "execution_count": 75,
   "metadata": {},
   "outputs": [
    {
     "data": {
      "text/plain": [
       "link                 209514\n",
       "headline             209514\n",
       "category             209514\n",
       "short_description    209514\n",
       "authors              209514\n",
       "date                 209514\n",
       "dtype: int64"
      ]
     },
     "execution_count": 75,
     "metadata": {},
     "output_type": "execute_result"
    }
   ],
   "source": [
    "df.count()"
   ]
  },
  {
   "cell_type": "markdown",
   "metadata": {},
   "source": [
    "## Células vazias"
   ]
  },
  {
   "cell_type": "code",
   "execution_count": 76,
   "metadata": {},
   "outputs": [
    {
     "data": {
      "text/plain": [
       "False"
      ]
     },
     "execution_count": 76,
     "metadata": {},
     "output_type": "execute_result"
    }
   ],
   "source": [
    "df.isnull().any().any()"
   ]
  },
  {
   "cell_type": "markdown",
   "metadata": {},
   "source": [
    "# Categorias"
   ]
  },
  {
   "cell_type": "code",
   "execution_count": 77,
   "metadata": {},
   "outputs": [
    {
     "data": {
      "text/plain": [
       "category\n",
       "POLITICS          35601\n",
       "WELLNESS          17942\n",
       "ENTERTAINMENT     17362\n",
       "TRAVEL             9900\n",
       "STYLE & BEAUTY     9811\n",
       "PARENTING          8791\n",
       "HEALTHY LIVING     6694\n",
       "QUEER VOICES       6347\n",
       "FOOD & DRINK       6340\n",
       "BUSINESS           5992\n",
       "COMEDY             5400\n",
       "SPORTS             5077\n",
       "BLACK VOICES       4583\n",
       "HOME & LIVING      4320\n",
       "PARENTS            3955\n",
       "THE WORLDPOST      3664\n",
       "WEDDINGS           3653\n",
       "WOMEN              3571\n",
       "CRIME              3562\n",
       "IMPACT             3484\n",
       "DIVORCE            3426\n",
       "WORLD NEWS         3299\n",
       "MEDIA              2944\n",
       "WEIRD NEWS         2777\n",
       "GREEN              2622\n",
       "WORLDPOST          2579\n",
       "RELIGION           2577\n",
       "STYLE              2254\n",
       "SCIENCE            2206\n",
       "TECH               2100\n",
       "TASTE              2096\n",
       "MONEY              1756\n",
       "ARTS               1509\n",
       "ENVIRONMENT        1443\n",
       "FIFTY              1401\n",
       "GOOD NEWS          1398\n",
       "U.S. NEWS          1377\n",
       "ARTS & CULTURE     1339\n",
       "COLLEGE            1144\n",
       "LATINO VOICES      1130\n",
       "CULTURE & ARTS     1074\n",
       "EDUCATION          1014\n",
       "Name: count, dtype: int64"
      ]
     },
     "execution_count": 77,
     "metadata": {},
     "output_type": "execute_result"
    }
   ],
   "source": [
    "categories_count = df['category'].value_counts()\n",
    "categories_count"
   ]
  },
  {
   "cell_type": "code",
   "execution_count": 78,
   "metadata": {},
   "outputs": [
    {
     "data": {
      "image/png": "[encoded data removed]",
      "text/plain": [
       "<Figure size 640x480 with 1 Axes>"
      ]
     },
     "metadata": {},
     "output_type": "display_data"
    }
   ],
   "source": [
    "ax = categories_count.plot.hist(bins=42)"
   ]
  },
  {
   "cell_type": "markdown",
   "metadata": {},
   "source": [
    "# Tratamento em nível de tokens"
   ]
  },
  {
   "cell_type": "markdown",
   "metadata": {},
   "source": [
    "## Tokenização"
   ]
  },
  {
   "cell_type": "code",
   "execution_count": 79,
   "metadata": {},
   "outputs": [
    {
     "data": {
      "text/plain": [
       "'Health experts said it is too early to predict whether demand would match up with the 171 million doses of the new boosters the U.S. ordered for the fall.'"
      ]
     },
     "execution_count": 79,
     "metadata": {},
     "output_type": "execute_result"
    }
   ],
   "source": [
    "raw = df['short_description'].iloc[0]\n",
    "raw"
   ]
  },
  {
   "cell_type": "code",
   "execution_count": 80,
   "metadata": {},
   "outputs": [
    {
     "data": {
      "text/plain": [
       "['Health',\n",
       " 'experts',\n",
       " 'said',\n",
       " 'it',\n",
       " 'is',\n",
       " 'too',\n",
       " 'early',\n",
       " 'to',\n",
       " 'predict',\n",
       " 'whether',\n",
       " 'demand',\n",
       " 'would',\n",
       " 'match',\n",
       " 'up',\n",
       " 'with',\n",
       " 'the',\n",
       " '171',\n",
       " 'million',\n",
       " 'doses',\n",
       " 'of',\n",
       " 'the',\n",
       " 'new',\n",
       " 'boosters',\n",
       " 'the',\n",
       " 'U.S.',\n",
       " 'ordered',\n",
       " 'for',\n",
       " 'the',\n",
       " 'fall',\n",
       " '.']"
      ]
     },
     "execution_count": 80,
     "metadata": {},
     "output_type": "execute_result"
    }
   ],
   "source": [
    "tokens = word_tokenize(raw, preserve_line=True)\n",
    "tokens"
   ]
  },
  {
   "cell_type": "markdown",
   "metadata": {},
   "source": [
    "### Minúsculo"
   ]
  },
  {
   "cell_type": "code",
   "execution_count": 81,
   "metadata": {},
   "outputs": [
    {
     "data": {
      "text/plain": [
       "['health',\n",
       " 'experts',\n",
       " 'said',\n",
       " 'it',\n",
       " 'is',\n",
       " 'too',\n",
       " 'early',\n",
       " 'to',\n",
       " 'predict',\n",
       " 'whether',\n",
       " 'demand',\n",
       " 'would',\n",
       " 'match',\n",
       " 'up',\n",
       " 'with',\n",
       " 'the',\n",
       " '171',\n",
       " 'million',\n",
       " 'doses',\n",
       " 'of',\n",
       " 'the',\n",
       " 'new',\n",
       " 'boosters',\n",
       " 'the',\n",
       " 'u.s.',\n",
       " 'ordered',\n",
       " 'for',\n",
       " 'the',\n",
       " 'fall',\n",
       " '.']"
      ]
     },
     "execution_count": 81,
     "metadata": {},
     "output_type": "execute_result"
    }
   ],
   "source": [
    "lowered_tokens = [token.lower() for token in tokens]\n",
    "lowered_tokens"
   ]
  },
  {
   "cell_type": "markdown",
   "metadata": {},
   "source": [
    "## Remoção de números e sinais de pontuação"
   ]
  },
  {
   "cell_type": "code",
   "execution_count": 82,
   "metadata": {},
   "outputs": [
    {
     "data": {
      "text/plain": [
       "['health',\n",
       " 'experts',\n",
       " 'said',\n",
       " 'it',\n",
       " 'is',\n",
       " 'too',\n",
       " 'early',\n",
       " 'to',\n",
       " 'predict',\n",
       " 'whether',\n",
       " 'demand',\n",
       " 'would',\n",
       " 'match',\n",
       " 'up',\n",
       " 'with',\n",
       " 'the',\n",
       " 'million',\n",
       " 'doses',\n",
       " 'of',\n",
       " 'the',\n",
       " 'new',\n",
       " 'boosters',\n",
       " 'the',\n",
       " 'ordered',\n",
       " 'for',\n",
       " 'the',\n",
       " 'fall']"
      ]
     },
     "execution_count": 82,
     "metadata": {},
     "output_type": "execute_result"
    }
   ],
   "source": [
    "words = [token for token in lowered_tokens if token.isalpha()]\n",
    "words"
   ]
  },
  {
   "cell_type": "markdown",
   "metadata": {},
   "source": [
    "## Remoção de Stopwords"
   ]
  },
  {
   "cell_type": "code",
   "execution_count": 83,
   "metadata": {},
   "outputs": [
    {
     "name": "stderr",
     "output_type": "stream",
     "text": [
      "[nltk_data] Downloading package stopwords to\n",
      "[nltk_data]     C:\\Users\\danie\\AppData\\Roaming\\nltk_data...\n",
      "[nltk_data]   Package stopwords is already up-to-date!\n"
     ]
    },
    {
     "data": {
      "text/plain": [
       "True"
      ]
     },
     "execution_count": 83,
     "metadata": {},
     "output_type": "execute_result"
    }
   ],
   "source": [
    "nltk.download('stopwords')"
   ]
  },
  {
   "cell_type": "code",
   "execution_count": 84,
   "metadata": {},
   "outputs": [
    {
     "data": {
      "text/plain": [
       "['i',\n",
       " 'me',\n",
       " 'my',\n",
       " 'myself',\n",
       " 'we',\n",
       " 'our',\n",
       " 'ours',\n",
       " 'ourselves',\n",
       " 'you',\n",
       " \"you're\",\n",
       " \"you've\",\n",
       " \"you'll\",\n",
       " \"you'd\",\n",
       " 'your',\n",
       " 'yours',\n",
       " 'yourself',\n",
       " 'yourselves',\n",
       " 'he',\n",
       " 'him',\n",
       " 'his',\n",
       " 'himself',\n",
       " 'she',\n",
       " \"she's\",\n",
       " 'her',\n",
       " 'hers',\n",
       " 'herself',\n",
       " 'it',\n",
       " \"it's\",\n",
       " 'its',\n",
       " 'itself',\n",
       " 'they',\n",
       " 'them',\n",
       " 'their',\n",
       " 'theirs',\n",
       " 'themselves',\n",
       " 'what',\n",
       " 'which',\n",
       " 'who',\n",
       " 'whom',\n",
       " 'this',\n",
       " 'that',\n",
       " \"that'll\",\n",
       " 'these',\n",
       " 'those',\n",
       " 'am',\n",
       " 'is',\n",
       " 'are',\n",
       " 'was',\n",
       " 'were',\n",
       " 'be',\n",
       " 'been',\n",
       " 'being',\n",
       " 'have',\n",
       " 'has',\n",
       " 'had',\n",
       " 'having',\n",
       " 'do',\n",
       " 'does',\n",
       " 'did',\n",
       " 'doing',\n",
       " 'a',\n",
       " 'an',\n",
       " 'the',\n",
       " 'and',\n",
       " 'but',\n",
       " 'if',\n",
       " 'or',\n",
       " 'because',\n",
       " 'as',\n",
       " 'until',\n",
       " 'while',\n",
       " 'of',\n",
       " 'at',\n",
       " 'by',\n",
       " 'for',\n",
       " 'with',\n",
       " 'about',\n",
       " 'against',\n",
       " 'between',\n",
       " 'into',\n",
       " 'through',\n",
       " 'during',\n",
       " 'before',\n",
       " 'after',\n",
       " 'above',\n",
       " 'below',\n",
       " 'to',\n",
       " 'from',\n",
       " 'up',\n",
       " 'down',\n",
       " 'in',\n",
       " 'out',\n",
       " 'on',\n",
       " 'off',\n",
       " 'over',\n",
       " 'under',\n",
       " 'again',\n",
       " 'further',\n",
       " 'then',\n",
       " 'once',\n",
       " 'here',\n",
       " 'there',\n",
       " 'when',\n",
       " 'where',\n",
       " 'why',\n",
       " 'how',\n",
       " 'all',\n",
       " 'any',\n",
       " 'both',\n",
       " 'each',\n",
       " 'few',\n",
       " 'more',\n",
       " 'most',\n",
       " 'other',\n",
       " 'some',\n",
       " 'such',\n",
       " 'no',\n",
       " 'nor',\n",
       " 'not',\n",
       " 'only',\n",
       " 'own',\n",
       " 'same',\n",
       " 'so',\n",
       " 'than',\n",
       " 'too',\n",
       " 'very',\n",
       " 's',\n",
       " 't',\n",
       " 'can',\n",
       " 'will',\n",
       " 'just',\n",
       " 'don',\n",
       " \"don't\",\n",
       " 'should',\n",
       " \"should've\",\n",
       " 'now',\n",
       " 'd',\n",
       " 'll',\n",
       " 'm',\n",
       " 'o',\n",
       " 're',\n",
       " 've',\n",
       " 'y',\n",
       " 'ain',\n",
       " 'aren',\n",
       " \"aren't\",\n",
       " 'couldn',\n",
       " \"couldn't\",\n",
       " 'didn',\n",
       " \"didn't\",\n",
       " 'doesn',\n",
       " \"doesn't\",\n",
       " 'hadn',\n",
       " \"hadn't\",\n",
       " 'hasn',\n",
       " \"hasn't\",\n",
       " 'haven',\n",
       " \"haven't\",\n",
       " 'isn',\n",
       " \"isn't\",\n",
       " 'ma',\n",
       " 'mightn',\n",
       " \"mightn't\",\n",
       " 'mustn',\n",
       " \"mustn't\",\n",
       " 'needn',\n",
       " \"needn't\",\n",
       " 'shan',\n",
       " \"shan't\",\n",
       " 'shouldn',\n",
       " \"shouldn't\",\n",
       " 'wasn',\n",
       " \"wasn't\",\n",
       " 'weren',\n",
       " \"weren't\",\n",
       " 'won',\n",
       " \"won't\",\n",
       " 'wouldn',\n",
       " \"wouldn't\"]"
      ]
     },
     "execution_count": 84,
     "metadata": {},
     "output_type": "execute_result"
    }
   ],
   "source": [
    "stopwords.words('english')"
   ]
  },
  {
   "cell_type": "code",
   "execution_count": 85,
   "metadata": {},
   "outputs": [
    {
     "data": {
      "text/plain": [
       "['health',\n",
       " 'experts',\n",
       " 'said',\n",
       " 'early',\n",
       " 'predict',\n",
       " 'whether',\n",
       " 'demand',\n",
       " 'would',\n",
       " 'match',\n",
       " 'million',\n",
       " 'doses',\n",
       " 'new',\n",
       " 'boosters',\n",
       " 'ordered',\n",
       " 'fall']"
      ]
     },
     "execution_count": 85,
     "metadata": {},
     "output_type": "execute_result"
    }
   ],
   "source": [
    "no_stopwords_tokens = [word for word in words if word not in stopwords.words(\"english\")]\n",
    "no_stopwords_tokens"
   ]
  },
  {
   "cell_type": "markdown",
   "metadata": {},
   "source": [
    "## Lematização"
   ]
  },
  {
   "cell_type": "code",
   "execution_count": 86,
   "metadata": {},
   "outputs": [
    {
     "name": "stderr",
     "output_type": "stream",
     "text": [
      "[nltk_data] Downloading package wordnet to\n",
      "[nltk_data]     C:\\Users\\danie\\AppData\\Roaming\\nltk_data...\n",
      "[nltk_data]   Package wordnet is already up-to-date!\n"
     ]
    },
    {
     "data": {
      "text/plain": [
       "True"
      ]
     },
     "execution_count": 86,
     "metadata": {},
     "output_type": "execute_result"
    }
   ],
   "source": [
    "nltk.download('wordnet')"
   ]
  },
  {
   "cell_type": "code",
   "execution_count": 87,
   "metadata": {},
   "outputs": [
    {
     "data": {
      "text/plain": [
       "['Health',\n",
       " 'expert',\n",
       " 'said',\n",
       " 'it',\n",
       " 'is',\n",
       " 'too',\n",
       " 'early',\n",
       " 'to',\n",
       " 'predict',\n",
       " 'whether',\n",
       " 'demand',\n",
       " 'would',\n",
       " 'match',\n",
       " 'up',\n",
       " 'with',\n",
       " 'the',\n",
       " '171',\n",
       " 'million',\n",
       " 'dos',\n",
       " 'of',\n",
       " 'the',\n",
       " 'new',\n",
       " 'booster',\n",
       " 'the',\n",
       " 'U.S.',\n",
       " 'ordered',\n",
       " 'for',\n",
       " 'the',\n",
       " 'fall',\n",
       " '.']"
      ]
     },
     "execution_count": 87,
     "metadata": {},
     "output_type": "execute_result"
    }
   ],
   "source": [
    "wnl = nltk.WordNetLemmatizer()\n",
    "\n",
    "lemmatized_tokens = [wnl.lemmatize(token) for token in tokens]\n",
    "lemmatized_tokens"
   ]
  },
  {
   "cell_type": "markdown",
   "metadata": {},
   "source": [
    "## Stemming"
   ]
  },
  {
   "cell_type": "code",
   "execution_count": 88,
   "metadata": {},
   "outputs": [
    {
     "data": {
      "text/plain": [
       "['health',\n",
       " 'expert',\n",
       " 'said',\n",
       " 'it',\n",
       " 'is',\n",
       " 'too',\n",
       " 'earli',\n",
       " 'to',\n",
       " 'predict',\n",
       " 'whether',\n",
       " 'demand',\n",
       " 'would',\n",
       " 'match',\n",
       " 'up',\n",
       " 'with',\n",
       " 'the',\n",
       " '171',\n",
       " 'million',\n",
       " 'dose',\n",
       " 'of',\n",
       " 'the',\n",
       " 'new',\n",
       " 'booster',\n",
       " 'the',\n",
       " 'u.s.',\n",
       " 'order',\n",
       " 'for',\n",
       " 'the',\n",
       " 'fall',\n",
       " '.']"
      ]
     },
     "execution_count": 88,
     "metadata": {},
     "output_type": "execute_result"
    }
   ],
   "source": [
    "porter = nltk.PorterStemmer()\n",
    "\n",
    "steamed_tokens = [porter.stem(token) for token in tokens]\n",
    "steamed_tokens"
   ]
  },
  {
   "cell_type": "markdown",
   "metadata": {},
   "source": [
    "## Função de tratamento"
   ]
  },
  {
   "cell_type": "code",
   "execution_count": 89,
   "metadata": {},
   "outputs": [],
   "source": [
    "def tokenize_text(text):\n",
    "    # Tokenização\n",
    "    tokens = word_tokenize(text, preserve_line=True)\n",
    "\n",
    "    return tokens\n",
    "\n",
    "def lower_tokens(tokens):\n",
    "    # Conversão para minúsculas\n",
    "    tokens = [token.lower() for token in tokens]\n",
    "\n",
    "    return tokens\n",
    "\n",
    "def concatenate_tokens(tokens):\n",
    "    # Concatenando tokens separados por espaços\n",
    "    tokens_as_text = ' '.join(tokens)\n",
    "\n",
    "    return tokens_as_text\n",
    "\n",
    "def remove_not_words(tokens):\n",
    "    # Remoção de tokens que não são palavras (somente caracteres alfabéticos)\n",
    "    words = [token for token in tokens if token.isalpha()]\n",
    "\n",
    "    return words\n",
    "\n",
    "def remove_stop_words(tokens):\n",
    "    # Remoção de stop words\n",
    "    stop_words = set(stopwords.words('english'))\n",
    "    filtered_words = [token for token in tokens if token not in stop_words]\n",
    "\n",
    "    return filtered_words\n",
    "\n",
    "def lemmatize_tokens(tokens):\n",
    "    wnl = nltk.WordNetLemmatizer()\n",
    "\n",
    "    lemmatized_tokens = [wnl.lemmatize(token) for token in tokens]\n",
    "\n",
    "    return lemmatized_tokens\n",
    "\n",
    "def stemming_tokens(tokens):\n",
    "    # Stemming\n",
    "    porter = nltk.PorterStemmer()\n",
    "\n",
    "    steamed_tokens = []\n",
    "\n",
    "    for token in tokens:\n",
    "        steamed_token = porter.stem(token)\n",
    "\n",
    "        if steamed_token.str.len() > 2:\n",
    "            steamed_tokens.append(steamed_token)\n",
    "\n",
    "    return steamed_tokens"
   ]
  },
  {
   "cell_type": "code",
   "execution_count": 90,
   "metadata": {},
   "outputs": [],
   "source": [
    "def process_text(text):\n",
    "    tokens = tokenize_text(text)\n",
    "    tokens = remove_not_words(tokens)\n",
    "    tokens = lower_tokens(tokens)\n",
    "    tokens = remove_stop_words(tokens)\n",
    "    tokens = stemming_tokens(tokens)\n",
    "\n",
    "    return concatenate_tokens(tokens)"
   ]
  },
  {
   "cell_type": "code",
   "execution_count": 91,
   "metadata": {},
   "outputs": [
    {
     "data": {
      "text/plain": [
       "'health expert said earli predict whether demand would match million dose new booster order fall'"
      ]
     },
     "execution_count": 91,
     "metadata": {},
     "output_type": "execute_result"
    }
   ],
   "source": [
    "process_text(raw)"
   ]
  },
  {
   "cell_type": "markdown",
   "metadata": {},
   "source": [
    "## Metadados"
   ]
  },
  {
   "cell_type": "code",
   "execution_count": 92,
   "metadata": {},
   "outputs": [],
   "source": [
    "def count_words(all_text_tokens):\n",
    "    return sum(len(tokens) for tokens in all_text_tokens)\n",
    "\n",
    "def count_distinct_words(all_text_tokens):\n",
    "    distinct_tokens = set(token for tokens in all_text_tokens for token in tokens)\n",
    "\n",
    "    return len(distinct_tokens)"
   ]
  },
  {
   "cell_type": "markdown",
   "metadata": {},
   "source": [
    "## Tratamento de todos os documentos\n",
    "\n",
    "### Etapas\n",
    "\n",
    "1. Tokenização, remoção de números/pontuação e transformação para minúsculo\n",
    "2. Remoção de stopwords\n",
    "3. Aplicação do Stemming\n",
    "\n",
    "### Casos\n",
    "\n",
    "1. Título\n",
    "2. Resumo\n",
    "3. Título + Resumo"
   ]
  },
  {
   "cell_type": "code",
   "execution_count": 93,
   "metadata": {},
   "outputs": [],
   "source": [
    "def tokenize_all_texts(df, columns):\n",
    "    all_texts_tokens = []\n",
    "\n",
    "    for index, instance in df.iterrows():\n",
    "        instance_tokens = []\n",
    "\n",
    "        for column in columns:\n",
    "            text = instance[column]\n",
    "            tokens = tokenize_text(text)\n",
    "\n",
    "            tokens = remove_not_words(tokens)\n",
    "            tokens = lower_tokens(tokens)\n",
    "\n",
    "            instance_tokens = instance_tokens + tokens\n",
    "\n",
    "        all_texts_tokens.append(instance_tokens)\n",
    "    \n",
    "    return all_texts_tokens"
   ]
  },
  {
   "cell_type": "markdown",
   "metadata": {},
   "source": [
    "### Caso 1 (Título)"
   ]
  },
  {
   "cell_type": "markdown",
   "metadata": {},
   "source": [
    "#### Tokenização e filtragem de palavras"
   ]
  },
  {
   "cell_type": "code",
   "execution_count": 94,
   "metadata": {},
   "outputs": [
    {
     "name": "stdout",
     "output_type": "stream",
     "text": [
      "Total de palavras: 1913746\n",
      "Total de palavras distintas: 53778\n"
     ]
    }
   ],
   "source": [
    "columns = ['headline']\n",
    "\n",
    "all_texts_tokens_1 = tokenize_all_texts(df, columns)\n",
    "\n",
    "total_words = count_words(all_texts_tokens_1)\n",
    "distinct_words = count_distinct_words(all_texts_tokens_1)\n",
    "\n",
    "print(f'Total de palavras: {total_words}')\n",
    "print(f'Total de palavras distintas: {distinct_words}')"
   ]
  },
  {
   "cell_type": "markdown",
   "metadata": {},
   "source": [
    "#### Remoção de stopwords"
   ]
  },
  {
   "cell_type": "code",
   "execution_count": 95,
   "metadata": {},
   "outputs": [
    {
     "name": "stdout",
     "output_type": "stream",
     "text": [
      "Total de palavras: 1314265\n",
      "Total de palavras distintas: 53630\n"
     ]
    }
   ],
   "source": [
    "for i in range(len(all_texts_tokens_1)):\n",
    "    all_texts_tokens_1[i] = remove_stop_words(all_texts_tokens_1[i])\n",
    "\n",
    "total_words = count_words(all_texts_tokens_1)\n",
    "distinct_words = count_distinct_words(all_texts_tokens_1)\n",
    "\n",
    "print(f'Total de palavras: {total_words}')\n",
    "print(f'Total de palavras distintas: {distinct_words}')"
   ]
  },
  {
   "cell_type": "markdown",
   "metadata": {},
   "source": [
    "#### Stemming"
   ]
  },
  {
   "cell_type": "code",
   "execution_count": 96,
   "metadata": {},
   "outputs": [
    {
     "name": "stdout",
     "output_type": "stream",
     "text": [
      "Total de palavras: 1314265\n",
      "Total de palavras distintas: 37481\n"
     ]
    }
   ],
   "source": [
    "for i in range(len(all_texts_tokens_1)):\n",
    "    all_texts_tokens_1[i] = stemming_tokens(all_texts_tokens_1[i])\n",
    "\n",
    "total_words = count_words(all_texts_tokens_1)\n",
    "distinct_words = count_distinct_words(all_texts_tokens_1)\n",
    "\n",
    "print(f'Total de palavras: {total_words}')\n",
    "print(f'Total de palavras distintas: {distinct_words}')"
   ]
  },
  {
   "cell_type": "markdown",
   "metadata": {},
   "source": [
    "### Caso 2 (Resumo)"
   ]
  },
  {
   "cell_type": "markdown",
   "metadata": {},
   "source": [
    "#### Tokenização e filtragem de palavras"
   ]
  },
  {
   "cell_type": "code",
   "execution_count": 97,
   "metadata": {},
   "outputs": [
    {
     "name": "stdout",
     "output_type": "stream",
     "text": [
      "Total de palavras: 3956387\n",
      "Total de palavras distintas: 71281\n"
     ]
    }
   ],
   "source": [
    "columns = ['short_description']\n",
    "all_texts_tokens_2 = tokenize_all_texts(df, columns)\n",
    "\n",
    "total_words = count_words(all_texts_tokens_2)\n",
    "distinct_words = count_distinct_words(all_texts_tokens_2)\n",
    "\n",
    "print(f'Total de palavras: {total_words}')\n",
    "print(f'Total de palavras distintas: {distinct_words}')"
   ]
  },
  {
   "cell_type": "markdown",
   "metadata": {},
   "source": [
    "#### Remoção de stopwords"
   ]
  },
  {
   "cell_type": "code",
   "execution_count": 98,
   "metadata": {},
   "outputs": [
    {
     "name": "stdout",
     "output_type": "stream",
     "text": [
      "Total de palavras: 2101598\n",
      "Total de palavras distintas: 71130\n"
     ]
    }
   ],
   "source": [
    "for i in range(len(all_texts_tokens_2)):\n",
    "    all_texts_tokens_2[i] = remove_stop_words(all_texts_tokens_2[i])\n",
    "\n",
    "total_words = count_words(all_texts_tokens_2)\n",
    "distinct_words = count_distinct_words(all_texts_tokens_2)\n",
    "\n",
    "print(f'Total de palavras: {total_words}')\n",
    "print(f'Total de palavras distintas: {distinct_words}')"
   ]
  },
  {
   "cell_type": "markdown",
   "metadata": {},
   "source": [
    "#### Stemming"
   ]
  },
  {
   "cell_type": "code",
   "execution_count": 99,
   "metadata": {},
   "outputs": [
    {
     "name": "stdout",
     "output_type": "stream",
     "text": [
      "Total de palavras: 2101598\n",
      "Total de palavras distintas: 49240\n"
     ]
    }
   ],
   "source": [
    "for i in range(len(all_texts_tokens_2)):\n",
    "    all_texts_tokens_2[i] = stemming_tokens(all_texts_tokens_2[i])\n",
    "\n",
    "total_words = count_words(all_texts_tokens_2)\n",
    "distinct_words = count_distinct_words(all_texts_tokens_2)\n",
    "\n",
    "print(f'Total de palavras: {total_words}')\n",
    "print(f'Total de palavras distintas: {distinct_words}')"
   ]
  },
  {
   "cell_type": "markdown",
   "metadata": {},
   "source": [
    "### Caso 3 (Título + Resumo)"
   ]
  },
  {
   "cell_type": "markdown",
   "metadata": {},
   "source": [
    "#### Tokenização e filtragem de palavras"
   ]
  },
  {
   "cell_type": "code",
   "execution_count": 100,
   "metadata": {},
   "outputs": [
    {
     "name": "stdout",
     "output_type": "stream",
     "text": [
      "Total de palavras: 5870133\n",
      "Total de palavras distintas: 83309\n"
     ]
    }
   ],
   "source": [
    "columns = ['short_description', 'headline']\n",
    "all_texts_tokens_3 = tokenize_all_texts(df, columns)\n",
    "\n",
    "total_words = count_words(all_texts_tokens_3)\n",
    "distinct_words = count_distinct_words(all_texts_tokens_3)\n",
    "\n",
    "print(f'Total de palavras: {total_words}')\n",
    "print(f'Total de palavras distintas: {distinct_words}')"
   ]
  },
  {
   "cell_type": "markdown",
   "metadata": {},
   "source": [
    "#### Remoção de stopwords"
   ]
  },
  {
   "cell_type": "code",
   "execution_count": 101,
   "metadata": {},
   "outputs": [
    {
     "name": "stdout",
     "output_type": "stream",
     "text": [
      "Total de palavras: 3415863\n",
      "Total de palavras distintas: 83158\n"
     ]
    }
   ],
   "source": [
    "for i in range(len(all_texts_tokens_3)):\n",
    "    all_texts_tokens_3[i] = remove_stop_words(all_texts_tokens_3[i])\n",
    "\n",
    "total_words = count_words(all_texts_tokens_3)\n",
    "distinct_words = count_distinct_words(all_texts_tokens_3)\n",
    "\n",
    "print(f'Total de palavras: {total_words}')\n",
    "print(f'Total de palavras distintas: {distinct_words}')"
   ]
  },
  {
   "cell_type": "markdown",
   "metadata": {},
   "source": [
    "#### Stemming"
   ]
  },
  {
   "cell_type": "code",
   "execution_count": 102,
   "metadata": {},
   "outputs": [
    {
     "name": "stdout",
     "output_type": "stream",
     "text": [
      "Total de palavras: 3415863\n",
      "Total de palavras distintas: 58066\n"
     ]
    }
   ],
   "source": [
    "for i in range(len(all_texts_tokens_3)):\n",
    "    all_texts_tokens_3[i] = stemming_tokens(all_texts_tokens_3[i])\n",
    "\n",
    "total_words = count_words(all_texts_tokens_3)\n",
    "distinct_words = count_distinct_words(all_texts_tokens_3)\n",
    "\n",
    "print(f'Total de palavras: {total_words}')\n",
    "print(f'Total de palavras distintas: {distinct_words}')"
   ]
  },
  {
   "cell_type": "markdown",
   "metadata": {},
   "source": [
    "### Concatenar todos os tokens"
   ]
  },
  {
   "cell_type": "code",
   "execution_count": 106,
   "metadata": {},
   "outputs": [],
   "source": [
    "all_texts_tokens_1 = [concatenate_tokens(tokens) for tokens in all_texts_tokens_1]\n",
    "all_texts_tokens_2 = [concatenate_tokens(tokens) for tokens in all_texts_tokens_2]\n",
    "all_texts_tokens_3 = [concatenate_tokens(tokens) for tokens in all_texts_tokens_3]"
   ]
  },
  {
   "cell_type": "markdown",
   "metadata": {},
   "source": [
    "### Armazenamento de todos os tokens"
   ]
  },
  {
   "cell_type": "code",
   "execution_count": 107,
   "metadata": {},
   "outputs": [],
   "source": [
    "df_tokens = pd.DataFrame({\n",
    "    'headline': all_texts_tokens_1,\n",
    "    'short_description': all_texts_tokens_2,\n",
    "    'mix': all_texts_tokens_3,\n",
    "    'category': df['category']})\n",
    "\n",
    "df_tokens.to_csv('news_tokens.csv', index=False)"
   ]
  },
  {
   "cell_type": "markdown",
   "metadata": {},
   "source": [
    "# Vetorização dos documentos"
   ]
  },
  {
   "cell_type": "markdown",
   "metadata": {},
   "source": [
    "## Seleção de instâncias"
   ]
  },
  {
   "cell_type": "markdown",
   "metadata": {},
   "source": [
    "## Por frequência"
   ]
  },
  {
   "cell_type": "code",
   "execution_count": 108,
   "metadata": {},
   "outputs": [
    {
     "name": "stdout",
     "output_type": "stream",
     "text": [
      "(209514, 37457)\n",
      "(209514, 49214)\n",
      "(209514, 58038)\n"
     ]
    }
   ],
   "source": [
    "frequency_vectorizer = CountVectorizer()\n",
    "\n",
    "frequency_vecs_1 = frequency_vectorizer.fit_transform(all_texts_tokens_1)\n",
    "frequency_vecs_2 = frequency_vectorizer.fit_transform(all_texts_tokens_2)\n",
    "frequency_vecs_3 = frequency_vectorizer.fit_transform(all_texts_tokens_3)\n",
    "\n",
    "print(frequency_vecs_1.shape)\n",
    "print(frequency_vecs_2.shape)\n",
    "print(frequency_vecs_3.shape)"
   ]
  },
  {
   "cell_type": "markdown",
   "metadata": {},
   "source": [
    "### Armazenando com numpy"
   ]
  },
  {
   "cell_type": "code",
   "execution_count": 109,
   "metadata": {},
   "outputs": [],
   "source": [
    "np.savez_compressed('frenquency_vectors.npz', \n",
    "        headline=frequency_vecs_1, \n",
    "        short_description=frequency_vecs_2, \n",
    "        mix=frequency_vecs_3, \n",
    "        category=df['category'])"
   ]
  },
  {
   "cell_type": "markdown",
   "metadata": {},
   "source": [
    "## Por frequência inversa"
   ]
  },
  {
   "cell_type": "code",
   "execution_count": 110,
   "metadata": {},
   "outputs": [
    {
     "name": "stdout",
     "output_type": "stream",
     "text": [
      "(209514, 37457)\n",
      "(209514, 49214)\n",
      "(209514, 58038)\n"
     ]
    }
   ],
   "source": [
    "inverse_frequency_vectorizer = TfidfVectorizer()\n",
    "\n",
    "inverse_frequency_vecs_1 = inverse_frequency_vectorizer.fit_transform(all_texts_tokens_1)\n",
    "inverse_frequency_vecs_2 = inverse_frequency_vectorizer.fit_transform(all_texts_tokens_2)\n",
    "inverse_frequency_vecs_3 = inverse_frequency_vectorizer.fit_transform(all_texts_tokens_3)\n",
    "\n",
    "print(inverse_frequency_vecs_1.shape)\n",
    "print(inverse_frequency_vecs_2.shape)\n",
    "print(inverse_frequency_vecs_3.shape)"
   ]
  },
  {
   "cell_type": "markdown",
   "metadata": {},
   "source": [
    "### Armazenando com numpy"
   ]
  },
  {
   "cell_type": "code",
   "execution_count": 111,
   "metadata": {},
   "outputs": [],
   "source": [
    "np.savez_compressed('inverse_frenquency_vectors.npz',\n",
    "        headline=inverse_frequency_vecs_1, \n",
    "        short_description=inverse_frequency_vecs_2, \n",
    "        mix=inverse_frequency_vecs_3, \n",
    "        category=df['category'])"
   ]
  }
 ],
 "metadata": {
  "kernelspec": {
   "display_name": "Python 3",
   "language": "python",
   "name": "python3"
  },
  "language_info": {
   "codemirror_mode": {
    "name": "ipython",
    "version": 3
   },
   "file_extension": ".py",
   "mimetype": "text/x-python",
   "name": "python",
   "nbconvert_exporter": "python",
   "pygments_lexer": "ipython3",
   "version": "3.11.0"
  }
 },
 "nbformat": 4,
 "nbformat_minor": 2
}
